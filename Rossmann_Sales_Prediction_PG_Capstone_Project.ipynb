{
  "nbformat": 4,
  "nbformat_minor": 0,
  "metadata": {
    "kernelspec": {
      "display_name": "Python 3",
      "language": "python",
      "name": "python3"
    },
    "language_info": {
      "codemirror_mode": {
        "name": "ipython",
        "version": 3
      },
      "file_extension": ".py",
      "mimetype": "text/x-python",
      "name": "python",
      "nbconvert_exporter": "python",
      "pygments_lexer": "ipython3",
      "version": "3.6.6"
    },
    "colab": {
      "provenance": [],
      "collapsed_sections": [],
      "include_colab_link": true
    }
  },
  "cells": [
    {
      "cell_type": "markdown",
      "metadata": {
        "id": "view-in-github",
        "colab_type": "text"
      },
      "source": [
        "<a href=\"https://colab.research.google.com/github/pritamgangwar/Retail-Sales-Prediction/blob/main/Rossmann_Sales_Prediction_PG_Capstone_Project.ipynb\" target=\"_parent\"><img src=\"https://colab.research.google.com/assets/colab-badge.svg\" alt=\"Open In Colab\"/></a>"
      ]
    },
    {
      "cell_type": "markdown",
      "metadata": {
        "id": "tOGC-qoyhJeX"
      },
      "source": [
        "# <b><u> Project Title : Sales Prediction : Predicting sales of a major store chain Rossmann</u></b>"
      ]
    },
    {
      "cell_type": "markdown",
      "metadata": {
        "id": "Y06xIdG26kRF"
      },
      "source": [
        "## <b> Problem Description </b>\n",
        "\n",
        "### Rossmann operates over 3,000 drug stores in 7 European countries. Currently, Rossmann store managers are tasked with predicting their daily sales for up to six weeks in advance. Store sales are influenced by many factors, including promotions, competition, school and state holidays, seasonality, and locality. With thousands of individual managers predicting sales based on their unique circumstances, the accuracy of results can be quite varied.\n",
        "\n",
        "### You are provided with historical sales data for 1,115 Rossmann stores. The task is to forecast the \"Sales\" column for the test set. Note that some stores in the dataset were temporarily closed for refurbishment."
      ]
    },
    {
      "cell_type": "markdown",
      "metadata": {
        "id": "WWeU1f9bwqQq"
      },
      "source": [
        "## <b> Data Description </b>\n",
        "\n",
        "### <b>Rossmann Stores Data.csv </b> - historical data including Sales\n",
        "### <b>store.csv </b> - supplemental information about the stores\n",
        "\n",
        "\n",
        "### <b><u>Data fields</u></b>\n",
        "### Most of the fields are self-explanatory. The following are descriptions for those that aren't.\n",
        "\n",
        "* #### Id - an Id that represents a (Store, Date) duple within the test set\n",
        "* #### Store - a unique Id for each store\n",
        "* #### Sales - the turnover for any given day (this is what you are predicting)\n",
        "* #### Customers - the number of customers on a given day\n",
        "* #### Open - an indicator for whether the store was open: 0 = closed, 1 = open\n",
        "* #### StateHoliday - indicates a state holiday. Normally all stores, with few exceptions, are closed on state holidays. Note that all schools are closed on public holidays and weekends. a = public holiday, b = Easter holiday, c = Christmas, 0 = None\n",
        "* #### SchoolHoliday - indicates if the (Store, Date) was affected by the closure of public schools\n",
        "* #### StoreType - differentiates between 4 different store models: a, b, c, d\n",
        "* #### Assortment - describes an assortment level: a = basic, b = extra, c = extended\n",
        "* #### CompetitionDistance - distance in meters to the nearest competitor store\n",
        "* #### CompetitionOpenSince[Month/Year] - gives the approximate year and month of the time the nearest competitor was opened\n",
        "* #### Promo - indicates whether a store is running a promo on that day\n",
        "* #### Promo2 - Promo2 is a continuing and consecutive promotion for some stores: 0 = store is not participating, 1 = store is participating\n",
        "* #### Promo2Since[Year/Week] - describes the year and calendar week when the store started participating in Promo2\n",
        "* #### PromoInterval - describes the consecutive intervals Promo2 is started, naming the months the promotion is started anew. E.g. \"Feb,May,Aug,Nov\" means each round starts in February, May, August, November of any given year for that store"
      ]
    },
    {
      "cell_type": "markdown",
      "source": [
        "# 1. Importing packages"
      ],
      "metadata": {
        "id": "9HsbdnmL-jg1"
      }
    },
    {
      "cell_type": "code",
      "metadata": {
        "id": "dByMsuzT8Tnw"
      },
      "source": [
        "import numpy as np\n",
        "import pandas as pd\n",
        "from numpy import math\n",
        "\n",
        "from sklearn.preprocessing import MinMaxScaler\n",
        "from sklearn.model_selection import train_test_split\n",
        "from sklearn.linear_model import LinearRegression\n",
        "from sklearn.metrics import r2_score\n",
        "from sklearn.metrics import mean_squared_error\n",
        "from sklearn.linear_model import Ridge, Lasso\n",
        "from sklearn.tree import DecisionTreeRegressor\n",
        "from sklearn.model_selection import cross_val_score\n",
        "\n",
        "import matplotlib.pyplot as plt\n",
        "import seaborn as sns\n",
        "import warnings\n",
        "warnings.filterwarnings(\"ignore\")\n"
      ],
      "execution_count": null,
      "outputs": []
    },
    {
      "cell_type": "code",
      "source": [
        "#Mounting Drive\n",
        "from google.colab import drive\n",
        "drive.mount('/content/drive')"
      ],
      "metadata": {
        "colab": {
          "base_uri": "https://localhost:8080/"
        },
        "id": "Qr68yBb-9U3x",
        "outputId": "10376d15-6245-401f-bad3-d1fb61ce1f33"
      },
      "execution_count": null,
      "outputs": [
        {
          "output_type": "stream",
          "name": "stdout",
          "text": [
            "Drive already mounted at /content/drive; to attempt to forcibly remount, call drive.mount(\"/content/drive\", force_remount=True).\n"
          ]
        }
      ]
    },
    {
      "cell_type": "markdown",
      "source": [
        "# **2. Data preparation**"
      ],
      "metadata": {
        "id": "NN14_XLo-QyU"
      }
    },
    {
      "cell_type": "code",
      "source": [
        "#Reading The Dataset\n",
        "R_stores = pd.read_csv('/content/drive/MyDrive/Copy of Rossmann Stores Data.csv')"
      ],
      "metadata": {
        "id": "x8VZjWab-5yV"
      },
      "execution_count": null,
      "outputs": []
    },
    {
      "cell_type": "code",
      "source": [
        "stores = pd.read_csv('/content/drive/MyDrive/Copy of store.csv')"
      ],
      "metadata": {
        "id": "rXPkEH0tCOEG"
      },
      "execution_count": null,
      "outputs": []
    },
    {
      "cell_type": "code",
      "source": [
        "R_stores"
      ],
      "metadata": {
        "colab": {
          "base_uri": "https://localhost:8080/",
          "height": 424
        },
        "id": "le6P1s-CCc5-",
        "outputId": "f43b1733-288d-4cb5-8ec3-9c1285f825d0"
      },
      "execution_count": null,
      "outputs": [
        {
          "output_type": "execute_result",
          "data": {
            "text/plain": [
              "         Store  DayOfWeek        Date  Sales  Customers  Open  Promo  \\\n",
              "0            1          5  2015-07-31   5263        555     1      1   \n",
              "1            2          5  2015-07-31   6064        625     1      1   \n",
              "2            3          5  2015-07-31   8314        821     1      1   \n",
              "3            4          5  2015-07-31  13995       1498     1      1   \n",
              "4            5          5  2015-07-31   4822        559     1      1   \n",
              "...        ...        ...         ...    ...        ...   ...    ...   \n",
              "1017204   1111          2  2013-01-01      0          0     0      0   \n",
              "1017205   1112          2  2013-01-01      0          0     0      0   \n",
              "1017206   1113          2  2013-01-01      0          0     0      0   \n",
              "1017207   1114          2  2013-01-01      0          0     0      0   \n",
              "1017208   1115          2  2013-01-01      0          0     0      0   \n",
              "\n",
              "        StateHoliday  SchoolHoliday  \n",
              "0                  0              1  \n",
              "1                  0              1  \n",
              "2                  0              1  \n",
              "3                  0              1  \n",
              "4                  0              1  \n",
              "...              ...            ...  \n",
              "1017204            a              1  \n",
              "1017205            a              1  \n",
              "1017206            a              1  \n",
              "1017207            a              1  \n",
              "1017208            a              1  \n",
              "\n",
              "[1017209 rows x 9 columns]"
            ],
            "text/html": [
              "\n",
              "  <div id=\"df-ae971269-d4d2-4ae3-a29d-e81ffa595c54\">\n",
              "    <div class=\"colab-df-container\">\n",
              "      <div>\n",
              "<style scoped>\n",
              "    .dataframe tbody tr th:only-of-type {\n",
              "        vertical-align: middle;\n",
              "    }\n",
              "\n",
              "    .dataframe tbody tr th {\n",
              "        vertical-align: top;\n",
              "    }\n",
              "\n",
              "    .dataframe thead th {\n",
              "        text-align: right;\n",
              "    }\n",
              "</style>\n",
              "<table border=\"1\" class=\"dataframe\">\n",
              "  <thead>\n",
              "    <tr style=\"text-align: right;\">\n",
              "      <th></th>\n",
              "      <th>Store</th>\n",
              "      <th>DayOfWeek</th>\n",
              "      <th>Date</th>\n",
              "      <th>Sales</th>\n",
              "      <th>Customers</th>\n",
              "      <th>Open</th>\n",
              "      <th>Promo</th>\n",
              "      <th>StateHoliday</th>\n",
              "      <th>SchoolHoliday</th>\n",
              "    </tr>\n",
              "  </thead>\n",
              "  <tbody>\n",
              "    <tr>\n",
              "      <th>0</th>\n",
              "      <td>1</td>\n",
              "      <td>5</td>\n",
              "      <td>2015-07-31</td>\n",
              "      <td>5263</td>\n",
              "      <td>555</td>\n",
              "      <td>1</td>\n",
              "      <td>1</td>\n",
              "      <td>0</td>\n",
              "      <td>1</td>\n",
              "    </tr>\n",
              "    <tr>\n",
              "      <th>1</th>\n",
              "      <td>2</td>\n",
              "      <td>5</td>\n",
              "      <td>2015-07-31</td>\n",
              "      <td>6064</td>\n",
              "      <td>625</td>\n",
              "      <td>1</td>\n",
              "      <td>1</td>\n",
              "      <td>0</td>\n",
              "      <td>1</td>\n",
              "    </tr>\n",
              "    <tr>\n",
              "      <th>2</th>\n",
              "      <td>3</td>\n",
              "      <td>5</td>\n",
              "      <td>2015-07-31</td>\n",
              "      <td>8314</td>\n",
              "      <td>821</td>\n",
              "      <td>1</td>\n",
              "      <td>1</td>\n",
              "      <td>0</td>\n",
              "      <td>1</td>\n",
              "    </tr>\n",
              "    <tr>\n",
              "      <th>3</th>\n",
              "      <td>4</td>\n",
              "      <td>5</td>\n",
              "      <td>2015-07-31</td>\n",
              "      <td>13995</td>\n",
              "      <td>1498</td>\n",
              "      <td>1</td>\n",
              "      <td>1</td>\n",
              "      <td>0</td>\n",
              "      <td>1</td>\n",
              "    </tr>\n",
              "    <tr>\n",
              "      <th>4</th>\n",
              "      <td>5</td>\n",
              "      <td>5</td>\n",
              "      <td>2015-07-31</td>\n",
              "      <td>4822</td>\n",
              "      <td>559</td>\n",
              "      <td>1</td>\n",
              "      <td>1</td>\n",
              "      <td>0</td>\n",
              "      <td>1</td>\n",
              "    </tr>\n",
              "    <tr>\n",
              "      <th>...</th>\n",
              "      <td>...</td>\n",
              "      <td>...</td>\n",
              "      <td>...</td>\n",
              "      <td>...</td>\n",
              "      <td>...</td>\n",
              "      <td>...</td>\n",
              "      <td>...</td>\n",
              "      <td>...</td>\n",
              "      <td>...</td>\n",
              "    </tr>\n",
              "    <tr>\n",
              "      <th>1017204</th>\n",
              "      <td>1111</td>\n",
              "      <td>2</td>\n",
              "      <td>2013-01-01</td>\n",
              "      <td>0</td>\n",
              "      <td>0</td>\n",
              "      <td>0</td>\n",
              "      <td>0</td>\n",
              "      <td>a</td>\n",
              "      <td>1</td>\n",
              "    </tr>\n",
              "    <tr>\n",
              "      <th>1017205</th>\n",
              "      <td>1112</td>\n",
              "      <td>2</td>\n",
              "      <td>2013-01-01</td>\n",
              "      <td>0</td>\n",
              "      <td>0</td>\n",
              "      <td>0</td>\n",
              "      <td>0</td>\n",
              "      <td>a</td>\n",
              "      <td>1</td>\n",
              "    </tr>\n",
              "    <tr>\n",
              "      <th>1017206</th>\n",
              "      <td>1113</td>\n",
              "      <td>2</td>\n",
              "      <td>2013-01-01</td>\n",
              "      <td>0</td>\n",
              "      <td>0</td>\n",
              "      <td>0</td>\n",
              "      <td>0</td>\n",
              "      <td>a</td>\n",
              "      <td>1</td>\n",
              "    </tr>\n",
              "    <tr>\n",
              "      <th>1017207</th>\n",
              "      <td>1114</td>\n",
              "      <td>2</td>\n",
              "      <td>2013-01-01</td>\n",
              "      <td>0</td>\n",
              "      <td>0</td>\n",
              "      <td>0</td>\n",
              "      <td>0</td>\n",
              "      <td>a</td>\n",
              "      <td>1</td>\n",
              "    </tr>\n",
              "    <tr>\n",
              "      <th>1017208</th>\n",
              "      <td>1115</td>\n",
              "      <td>2</td>\n",
              "      <td>2013-01-01</td>\n",
              "      <td>0</td>\n",
              "      <td>0</td>\n",
              "      <td>0</td>\n",
              "      <td>0</td>\n",
              "      <td>a</td>\n",
              "      <td>1</td>\n",
              "    </tr>\n",
              "  </tbody>\n",
              "</table>\n",
              "<p>1017209 rows × 9 columns</p>\n",
              "</div>\n",
              "      <button class=\"colab-df-convert\" onclick=\"convertToInteractive('df-ae971269-d4d2-4ae3-a29d-e81ffa595c54')\"\n",
              "              title=\"Convert this dataframe to an interactive table.\"\n",
              "              style=\"display:none;\">\n",
              "        \n",
              "  <svg xmlns=\"http://www.w3.org/2000/svg\" height=\"24px\"viewBox=\"0 0 24 24\"\n",
              "       width=\"24px\">\n",
              "    <path d=\"M0 0h24v24H0V0z\" fill=\"none\"/>\n",
              "    <path d=\"M18.56 5.44l.94 2.06.94-2.06 2.06-.94-2.06-.94-.94-2.06-.94 2.06-2.06.94zm-11 1L8.5 8.5l.94-2.06 2.06-.94-2.06-.94L8.5 2.5l-.94 2.06-2.06.94zm10 10l.94 2.06.94-2.06 2.06-.94-2.06-.94-.94-2.06-.94 2.06-2.06.94z\"/><path d=\"M17.41 7.96l-1.37-1.37c-.4-.4-.92-.59-1.43-.59-.52 0-1.04.2-1.43.59L10.3 9.45l-7.72 7.72c-.78.78-.78 2.05 0 2.83L4 21.41c.39.39.9.59 1.41.59.51 0 1.02-.2 1.41-.59l7.78-7.78 2.81-2.81c.8-.78.8-2.07 0-2.86zM5.41 20L4 18.59l7.72-7.72 1.47 1.35L5.41 20z\"/>\n",
              "  </svg>\n",
              "      </button>\n",
              "      \n",
              "  <style>\n",
              "    .colab-df-container {\n",
              "      display:flex;\n",
              "      flex-wrap:wrap;\n",
              "      gap: 12px;\n",
              "    }\n",
              "\n",
              "    .colab-df-convert {\n",
              "      background-color: #E8F0FE;\n",
              "      border: none;\n",
              "      border-radius: 50%;\n",
              "      cursor: pointer;\n",
              "      display: none;\n",
              "      fill: #1967D2;\n",
              "      height: 32px;\n",
              "      padding: 0 0 0 0;\n",
              "      width: 32px;\n",
              "    }\n",
              "\n",
              "    .colab-df-convert:hover {\n",
              "      background-color: #E2EBFA;\n",
              "      box-shadow: 0px 1px 2px rgba(60, 64, 67, 0.3), 0px 1px 3px 1px rgba(60, 64, 67, 0.15);\n",
              "      fill: #174EA6;\n",
              "    }\n",
              "\n",
              "    [theme=dark] .colab-df-convert {\n",
              "      background-color: #3B4455;\n",
              "      fill: #D2E3FC;\n",
              "    }\n",
              "\n",
              "    [theme=dark] .colab-df-convert:hover {\n",
              "      background-color: #434B5C;\n",
              "      box-shadow: 0px 1px 3px 1px rgba(0, 0, 0, 0.15);\n",
              "      filter: drop-shadow(0px 1px 2px rgba(0, 0, 0, 0.3));\n",
              "      fill: #FFFFFF;\n",
              "    }\n",
              "  </style>\n",
              "\n",
              "      <script>\n",
              "        const buttonEl =\n",
              "          document.querySelector('#df-ae971269-d4d2-4ae3-a29d-e81ffa595c54 button.colab-df-convert');\n",
              "        buttonEl.style.display =\n",
              "          google.colab.kernel.accessAllowed ? 'block' : 'none';\n",
              "\n",
              "        async function convertToInteractive(key) {\n",
              "          const element = document.querySelector('#df-ae971269-d4d2-4ae3-a29d-e81ffa595c54');\n",
              "          const dataTable =\n",
              "            await google.colab.kernel.invokeFunction('convertToInteractive',\n",
              "                                                     [key], {});\n",
              "          if (!dataTable) return;\n",
              "\n",
              "          const docLinkHtml = 'Like what you see? Visit the ' +\n",
              "            '<a target=\"_blank\" href=https://colab.research.google.com/notebooks/data_table.ipynb>data table notebook</a>'\n",
              "            + ' to learn more about interactive tables.';\n",
              "          element.innerHTML = '';\n",
              "          dataTable['output_type'] = 'display_data';\n",
              "          await google.colab.output.renderOutput(dataTable, element);\n",
              "          const docLink = document.createElement('div');\n",
              "          docLink.innerHTML = docLinkHtml;\n",
              "          element.appendChild(docLink);\n",
              "        }\n",
              "      </script>\n",
              "    </div>\n",
              "  </div>\n",
              "  "
            ]
          },
          "metadata": {},
          "execution_count": 122
        }
      ]
    },
    {
      "cell_type": "code",
      "source": [
        "stores"
      ],
      "metadata": {
        "colab": {
          "base_uri": "https://localhost:8080/",
          "height": 424
        },
        "id": "jQcDEj4NCgyN",
        "outputId": "5714870d-e9be-4780-a7c1-c8d488d5b1b6"
      },
      "execution_count": null,
      "outputs": [
        {
          "output_type": "execute_result",
          "data": {
            "text/plain": [
              "      Store StoreType Assortment  CompetitionDistance  \\\n",
              "0         1         c          a               1270.0   \n",
              "1         2         a          a                570.0   \n",
              "2         3         a          a              14130.0   \n",
              "3         4         c          c                620.0   \n",
              "4         5         a          a              29910.0   \n",
              "...     ...       ...        ...                  ...   \n",
              "1110   1111         a          a               1900.0   \n",
              "1111   1112         c          c               1880.0   \n",
              "1112   1113         a          c               9260.0   \n",
              "1113   1114         a          c                870.0   \n",
              "1114   1115         d          c               5350.0   \n",
              "\n",
              "      CompetitionOpenSinceMonth  CompetitionOpenSinceYear  Promo2  \\\n",
              "0                           9.0                    2008.0       0   \n",
              "1                          11.0                    2007.0       1   \n",
              "2                          12.0                    2006.0       1   \n",
              "3                           9.0                    2009.0       0   \n",
              "4                           4.0                    2015.0       0   \n",
              "...                         ...                       ...     ...   \n",
              "1110                        6.0                    2014.0       1   \n",
              "1111                        4.0                    2006.0       0   \n",
              "1112                        NaN                       NaN       0   \n",
              "1113                        NaN                       NaN       0   \n",
              "1114                        NaN                       NaN       1   \n",
              "\n",
              "      Promo2SinceWeek  Promo2SinceYear     PromoInterval  \n",
              "0                 NaN              NaN               NaN  \n",
              "1                13.0           2010.0   Jan,Apr,Jul,Oct  \n",
              "2                14.0           2011.0   Jan,Apr,Jul,Oct  \n",
              "3                 NaN              NaN               NaN  \n",
              "4                 NaN              NaN               NaN  \n",
              "...               ...              ...               ...  \n",
              "1110             31.0           2013.0   Jan,Apr,Jul,Oct  \n",
              "1111              NaN              NaN               NaN  \n",
              "1112              NaN              NaN               NaN  \n",
              "1113              NaN              NaN               NaN  \n",
              "1114             22.0           2012.0  Mar,Jun,Sept,Dec  \n",
              "\n",
              "[1115 rows x 10 columns]"
            ],
            "text/html": [
              "\n",
              "  <div id=\"df-3f7b5aac-d937-4d0b-8dd3-7ddaf543752c\">\n",
              "    <div class=\"colab-df-container\">\n",
              "      <div>\n",
              "<style scoped>\n",
              "    .dataframe tbody tr th:only-of-type {\n",
              "        vertical-align: middle;\n",
              "    }\n",
              "\n",
              "    .dataframe tbody tr th {\n",
              "        vertical-align: top;\n",
              "    }\n",
              "\n",
              "    .dataframe thead th {\n",
              "        text-align: right;\n",
              "    }\n",
              "</style>\n",
              "<table border=\"1\" class=\"dataframe\">\n",
              "  <thead>\n",
              "    <tr style=\"text-align: right;\">\n",
              "      <th></th>\n",
              "      <th>Store</th>\n",
              "      <th>StoreType</th>\n",
              "      <th>Assortment</th>\n",
              "      <th>CompetitionDistance</th>\n",
              "      <th>CompetitionOpenSinceMonth</th>\n",
              "      <th>CompetitionOpenSinceYear</th>\n",
              "      <th>Promo2</th>\n",
              "      <th>Promo2SinceWeek</th>\n",
              "      <th>Promo2SinceYear</th>\n",
              "      <th>PromoInterval</th>\n",
              "    </tr>\n",
              "  </thead>\n",
              "  <tbody>\n",
              "    <tr>\n",
              "      <th>0</th>\n",
              "      <td>1</td>\n",
              "      <td>c</td>\n",
              "      <td>a</td>\n",
              "      <td>1270.0</td>\n",
              "      <td>9.0</td>\n",
              "      <td>2008.0</td>\n",
              "      <td>0</td>\n",
              "      <td>NaN</td>\n",
              "      <td>NaN</td>\n",
              "      <td>NaN</td>\n",
              "    </tr>\n",
              "    <tr>\n",
              "      <th>1</th>\n",
              "      <td>2</td>\n",
              "      <td>a</td>\n",
              "      <td>a</td>\n",
              "      <td>570.0</td>\n",
              "      <td>11.0</td>\n",
              "      <td>2007.0</td>\n",
              "      <td>1</td>\n",
              "      <td>13.0</td>\n",
              "      <td>2010.0</td>\n",
              "      <td>Jan,Apr,Jul,Oct</td>\n",
              "    </tr>\n",
              "    <tr>\n",
              "      <th>2</th>\n",
              "      <td>3</td>\n",
              "      <td>a</td>\n",
              "      <td>a</td>\n",
              "      <td>14130.0</td>\n",
              "      <td>12.0</td>\n",
              "      <td>2006.0</td>\n",
              "      <td>1</td>\n",
              "      <td>14.0</td>\n",
              "      <td>2011.0</td>\n",
              "      <td>Jan,Apr,Jul,Oct</td>\n",
              "    </tr>\n",
              "    <tr>\n",
              "      <th>3</th>\n",
              "      <td>4</td>\n",
              "      <td>c</td>\n",
              "      <td>c</td>\n",
              "      <td>620.0</td>\n",
              "      <td>9.0</td>\n",
              "      <td>2009.0</td>\n",
              "      <td>0</td>\n",
              "      <td>NaN</td>\n",
              "      <td>NaN</td>\n",
              "      <td>NaN</td>\n",
              "    </tr>\n",
              "    <tr>\n",
              "      <th>4</th>\n",
              "      <td>5</td>\n",
              "      <td>a</td>\n",
              "      <td>a</td>\n",
              "      <td>29910.0</td>\n",
              "      <td>4.0</td>\n",
              "      <td>2015.0</td>\n",
              "      <td>0</td>\n",
              "      <td>NaN</td>\n",
              "      <td>NaN</td>\n",
              "      <td>NaN</td>\n",
              "    </tr>\n",
              "    <tr>\n",
              "      <th>...</th>\n",
              "      <td>...</td>\n",
              "      <td>...</td>\n",
              "      <td>...</td>\n",
              "      <td>...</td>\n",
              "      <td>...</td>\n",
              "      <td>...</td>\n",
              "      <td>...</td>\n",
              "      <td>...</td>\n",
              "      <td>...</td>\n",
              "      <td>...</td>\n",
              "    </tr>\n",
              "    <tr>\n",
              "      <th>1110</th>\n",
              "      <td>1111</td>\n",
              "      <td>a</td>\n",
              "      <td>a</td>\n",
              "      <td>1900.0</td>\n",
              "      <td>6.0</td>\n",
              "      <td>2014.0</td>\n",
              "      <td>1</td>\n",
              "      <td>31.0</td>\n",
              "      <td>2013.0</td>\n",
              "      <td>Jan,Apr,Jul,Oct</td>\n",
              "    </tr>\n",
              "    <tr>\n",
              "      <th>1111</th>\n",
              "      <td>1112</td>\n",
              "      <td>c</td>\n",
              "      <td>c</td>\n",
              "      <td>1880.0</td>\n",
              "      <td>4.0</td>\n",
              "      <td>2006.0</td>\n",
              "      <td>0</td>\n",
              "      <td>NaN</td>\n",
              "      <td>NaN</td>\n",
              "      <td>NaN</td>\n",
              "    </tr>\n",
              "    <tr>\n",
              "      <th>1112</th>\n",
              "      <td>1113</td>\n",
              "      <td>a</td>\n",
              "      <td>c</td>\n",
              "      <td>9260.0</td>\n",
              "      <td>NaN</td>\n",
              "      <td>NaN</td>\n",
              "      <td>0</td>\n",
              "      <td>NaN</td>\n",
              "      <td>NaN</td>\n",
              "      <td>NaN</td>\n",
              "    </tr>\n",
              "    <tr>\n",
              "      <th>1113</th>\n",
              "      <td>1114</td>\n",
              "      <td>a</td>\n",
              "      <td>c</td>\n",
              "      <td>870.0</td>\n",
              "      <td>NaN</td>\n",
              "      <td>NaN</td>\n",
              "      <td>0</td>\n",
              "      <td>NaN</td>\n",
              "      <td>NaN</td>\n",
              "      <td>NaN</td>\n",
              "    </tr>\n",
              "    <tr>\n",
              "      <th>1114</th>\n",
              "      <td>1115</td>\n",
              "      <td>d</td>\n",
              "      <td>c</td>\n",
              "      <td>5350.0</td>\n",
              "      <td>NaN</td>\n",
              "      <td>NaN</td>\n",
              "      <td>1</td>\n",
              "      <td>22.0</td>\n",
              "      <td>2012.0</td>\n",
              "      <td>Mar,Jun,Sept,Dec</td>\n",
              "    </tr>\n",
              "  </tbody>\n",
              "</table>\n",
              "<p>1115 rows × 10 columns</p>\n",
              "</div>\n",
              "      <button class=\"colab-df-convert\" onclick=\"convertToInteractive('df-3f7b5aac-d937-4d0b-8dd3-7ddaf543752c')\"\n",
              "              title=\"Convert this dataframe to an interactive table.\"\n",
              "              style=\"display:none;\">\n",
              "        \n",
              "  <svg xmlns=\"http://www.w3.org/2000/svg\" height=\"24px\"viewBox=\"0 0 24 24\"\n",
              "       width=\"24px\">\n",
              "    <path d=\"M0 0h24v24H0V0z\" fill=\"none\"/>\n",
              "    <path d=\"M18.56 5.44l.94 2.06.94-2.06 2.06-.94-2.06-.94-.94-2.06-.94 2.06-2.06.94zm-11 1L8.5 8.5l.94-2.06 2.06-.94-2.06-.94L8.5 2.5l-.94 2.06-2.06.94zm10 10l.94 2.06.94-2.06 2.06-.94-2.06-.94-.94-2.06-.94 2.06-2.06.94z\"/><path d=\"M17.41 7.96l-1.37-1.37c-.4-.4-.92-.59-1.43-.59-.52 0-1.04.2-1.43.59L10.3 9.45l-7.72 7.72c-.78.78-.78 2.05 0 2.83L4 21.41c.39.39.9.59 1.41.59.51 0 1.02-.2 1.41-.59l7.78-7.78 2.81-2.81c.8-.78.8-2.07 0-2.86zM5.41 20L4 18.59l7.72-7.72 1.47 1.35L5.41 20z\"/>\n",
              "  </svg>\n",
              "      </button>\n",
              "      \n",
              "  <style>\n",
              "    .colab-df-container {\n",
              "      display:flex;\n",
              "      flex-wrap:wrap;\n",
              "      gap: 12px;\n",
              "    }\n",
              "\n",
              "    .colab-df-convert {\n",
              "      background-color: #E8F0FE;\n",
              "      border: none;\n",
              "      border-radius: 50%;\n",
              "      cursor: pointer;\n",
              "      display: none;\n",
              "      fill: #1967D2;\n",
              "      height: 32px;\n",
              "      padding: 0 0 0 0;\n",
              "      width: 32px;\n",
              "    }\n",
              "\n",
              "    .colab-df-convert:hover {\n",
              "      background-color: #E2EBFA;\n",
              "      box-shadow: 0px 1px 2px rgba(60, 64, 67, 0.3), 0px 1px 3px 1px rgba(60, 64, 67, 0.15);\n",
              "      fill: #174EA6;\n",
              "    }\n",
              "\n",
              "    [theme=dark] .colab-df-convert {\n",
              "      background-color: #3B4455;\n",
              "      fill: #D2E3FC;\n",
              "    }\n",
              "\n",
              "    [theme=dark] .colab-df-convert:hover {\n",
              "      background-color: #434B5C;\n",
              "      box-shadow: 0px 1px 3px 1px rgba(0, 0, 0, 0.15);\n",
              "      filter: drop-shadow(0px 1px 2px rgba(0, 0, 0, 0.3));\n",
              "      fill: #FFFFFF;\n",
              "    }\n",
              "  </style>\n",
              "\n",
              "      <script>\n",
              "        const buttonEl =\n",
              "          document.querySelector('#df-3f7b5aac-d937-4d0b-8dd3-7ddaf543752c button.colab-df-convert');\n",
              "        buttonEl.style.display =\n",
              "          google.colab.kernel.accessAllowed ? 'block' : 'none';\n",
              "\n",
              "        async function convertToInteractive(key) {\n",
              "          const element = document.querySelector('#df-3f7b5aac-d937-4d0b-8dd3-7ddaf543752c');\n",
              "          const dataTable =\n",
              "            await google.colab.kernel.invokeFunction('convertToInteractive',\n",
              "                                                     [key], {});\n",
              "          if (!dataTable) return;\n",
              "\n",
              "          const docLinkHtml = 'Like what you see? Visit the ' +\n",
              "            '<a target=\"_blank\" href=https://colab.research.google.com/notebooks/data_table.ipynb>data table notebook</a>'\n",
              "            + ' to learn more about interactive tables.';\n",
              "          element.innerHTML = '';\n",
              "          dataTable['output_type'] = 'display_data';\n",
              "          await google.colab.output.renderOutput(dataTable, element);\n",
              "          const docLink = document.createElement('div');\n",
              "          docLink.innerHTML = docLinkHtml;\n",
              "          element.appendChild(docLink);\n",
              "        }\n",
              "      </script>\n",
              "    </div>\n",
              "  </div>\n",
              "  "
            ]
          },
          "metadata": {},
          "execution_count": 123
        }
      ]
    },
    {
      "cell_type": "markdown",
      "source": [],
      "metadata": {
        "id": "9YOmpThzYhB0"
      }
    },
    {
      "cell_type": "code",
      "source": [
        "#Mearging the two data set\n",
        "All_store = pd.merge(R_stores, stores, on = 'Store') "
      ],
      "metadata": {
        "id": "k4JBWKJ0Cv0W"
      },
      "execution_count": null,
      "outputs": []
    },
    {
      "cell_type": "code",
      "source": [
        "All_store"
      ],
      "metadata": {
        "colab": {
          "base_uri": "https://localhost:8080/",
          "height": 661
        },
        "id": "DaCM8H7XX14m",
        "outputId": "bf869325-d6e5-4b2c-87bd-13db0db800ad"
      },
      "execution_count": null,
      "outputs": [
        {
          "output_type": "execute_result",
          "data": {
            "text/plain": [
              "         Store  DayOfWeek        Date  Sales  Customers  Open  Promo  \\\n",
              "0            1          5  2015-07-31   5263        555     1      1   \n",
              "1            1          4  2015-07-30   5020        546     1      1   \n",
              "2            1          3  2015-07-29   4782        523     1      1   \n",
              "3            1          2  2015-07-28   5011        560     1      1   \n",
              "4            1          1  2015-07-27   6102        612     1      1   \n",
              "...        ...        ...         ...    ...        ...   ...    ...   \n",
              "1017204   1115          6  2013-01-05   4771        339     1      0   \n",
              "1017205   1115          5  2013-01-04   4540        326     1      0   \n",
              "1017206   1115          4  2013-01-03   4297        300     1      0   \n",
              "1017207   1115          3  2013-01-02   3697        305     1      0   \n",
              "1017208   1115          2  2013-01-01      0          0     0      0   \n",
              "\n",
              "        StateHoliday  SchoolHoliday StoreType Assortment  CompetitionDistance  \\\n",
              "0                  0              1         c          a               1270.0   \n",
              "1                  0              1         c          a               1270.0   \n",
              "2                  0              1         c          a               1270.0   \n",
              "3                  0              1         c          a               1270.0   \n",
              "4                  0              1         c          a               1270.0   \n",
              "...              ...            ...       ...        ...                  ...   \n",
              "1017204            0              1         d          c               5350.0   \n",
              "1017205            0              1         d          c               5350.0   \n",
              "1017206            0              1         d          c               5350.0   \n",
              "1017207            0              1         d          c               5350.0   \n",
              "1017208            a              1         d          c               5350.0   \n",
              "\n",
              "         CompetitionOpenSinceMonth  CompetitionOpenSinceYear  Promo2  \\\n",
              "0                              9.0                    2008.0       0   \n",
              "1                              9.0                    2008.0       0   \n",
              "2                              9.0                    2008.0       0   \n",
              "3                              9.0                    2008.0       0   \n",
              "4                              9.0                    2008.0       0   \n",
              "...                            ...                       ...     ...   \n",
              "1017204                        NaN                       NaN       1   \n",
              "1017205                        NaN                       NaN       1   \n",
              "1017206                        NaN                       NaN       1   \n",
              "1017207                        NaN                       NaN       1   \n",
              "1017208                        NaN                       NaN       1   \n",
              "\n",
              "         Promo2SinceWeek  Promo2SinceYear     PromoInterval  \n",
              "0                    NaN              NaN               NaN  \n",
              "1                    NaN              NaN               NaN  \n",
              "2                    NaN              NaN               NaN  \n",
              "3                    NaN              NaN               NaN  \n",
              "4                    NaN              NaN               NaN  \n",
              "...                  ...              ...               ...  \n",
              "1017204             22.0           2012.0  Mar,Jun,Sept,Dec  \n",
              "1017205             22.0           2012.0  Mar,Jun,Sept,Dec  \n",
              "1017206             22.0           2012.0  Mar,Jun,Sept,Dec  \n",
              "1017207             22.0           2012.0  Mar,Jun,Sept,Dec  \n",
              "1017208             22.0           2012.0  Mar,Jun,Sept,Dec  \n",
              "\n",
              "[1017209 rows x 18 columns]"
            ],
            "text/html": [
              "\n",
              "  <div id=\"df-e3190b9e-e683-48e7-b611-a2ac7cfb9955\">\n",
              "    <div class=\"colab-df-container\">\n",
              "      <div>\n",
              "<style scoped>\n",
              "    .dataframe tbody tr th:only-of-type {\n",
              "        vertical-align: middle;\n",
              "    }\n",
              "\n",
              "    .dataframe tbody tr th {\n",
              "        vertical-align: top;\n",
              "    }\n",
              "\n",
              "    .dataframe thead th {\n",
              "        text-align: right;\n",
              "    }\n",
              "</style>\n",
              "<table border=\"1\" class=\"dataframe\">\n",
              "  <thead>\n",
              "    <tr style=\"text-align: right;\">\n",
              "      <th></th>\n",
              "      <th>Store</th>\n",
              "      <th>DayOfWeek</th>\n",
              "      <th>Date</th>\n",
              "      <th>Sales</th>\n",
              "      <th>Customers</th>\n",
              "      <th>Open</th>\n",
              "      <th>Promo</th>\n",
              "      <th>StateHoliday</th>\n",
              "      <th>SchoolHoliday</th>\n",
              "      <th>StoreType</th>\n",
              "      <th>Assortment</th>\n",
              "      <th>CompetitionDistance</th>\n",
              "      <th>CompetitionOpenSinceMonth</th>\n",
              "      <th>CompetitionOpenSinceYear</th>\n",
              "      <th>Promo2</th>\n",
              "      <th>Promo2SinceWeek</th>\n",
              "      <th>Promo2SinceYear</th>\n",
              "      <th>PromoInterval</th>\n",
              "    </tr>\n",
              "  </thead>\n",
              "  <tbody>\n",
              "    <tr>\n",
              "      <th>0</th>\n",
              "      <td>1</td>\n",
              "      <td>5</td>\n",
              "      <td>2015-07-31</td>\n",
              "      <td>5263</td>\n",
              "      <td>555</td>\n",
              "      <td>1</td>\n",
              "      <td>1</td>\n",
              "      <td>0</td>\n",
              "      <td>1</td>\n",
              "      <td>c</td>\n",
              "      <td>a</td>\n",
              "      <td>1270.0</td>\n",
              "      <td>9.0</td>\n",
              "      <td>2008.0</td>\n",
              "      <td>0</td>\n",
              "      <td>NaN</td>\n",
              "      <td>NaN</td>\n",
              "      <td>NaN</td>\n",
              "    </tr>\n",
              "    <tr>\n",
              "      <th>1</th>\n",
              "      <td>1</td>\n",
              "      <td>4</td>\n",
              "      <td>2015-07-30</td>\n",
              "      <td>5020</td>\n",
              "      <td>546</td>\n",
              "      <td>1</td>\n",
              "      <td>1</td>\n",
              "      <td>0</td>\n",
              "      <td>1</td>\n",
              "      <td>c</td>\n",
              "      <td>a</td>\n",
              "      <td>1270.0</td>\n",
              "      <td>9.0</td>\n",
              "      <td>2008.0</td>\n",
              "      <td>0</td>\n",
              "      <td>NaN</td>\n",
              "      <td>NaN</td>\n",
              "      <td>NaN</td>\n",
              "    </tr>\n",
              "    <tr>\n",
              "      <th>2</th>\n",
              "      <td>1</td>\n",
              "      <td>3</td>\n",
              "      <td>2015-07-29</td>\n",
              "      <td>4782</td>\n",
              "      <td>523</td>\n",
              "      <td>1</td>\n",
              "      <td>1</td>\n",
              "      <td>0</td>\n",
              "      <td>1</td>\n",
              "      <td>c</td>\n",
              "      <td>a</td>\n",
              "      <td>1270.0</td>\n",
              "      <td>9.0</td>\n",
              "      <td>2008.0</td>\n",
              "      <td>0</td>\n",
              "      <td>NaN</td>\n",
              "      <td>NaN</td>\n",
              "      <td>NaN</td>\n",
              "    </tr>\n",
              "    <tr>\n",
              "      <th>3</th>\n",
              "      <td>1</td>\n",
              "      <td>2</td>\n",
              "      <td>2015-07-28</td>\n",
              "      <td>5011</td>\n",
              "      <td>560</td>\n",
              "      <td>1</td>\n",
              "      <td>1</td>\n",
              "      <td>0</td>\n",
              "      <td>1</td>\n",
              "      <td>c</td>\n",
              "      <td>a</td>\n",
              "      <td>1270.0</td>\n",
              "      <td>9.0</td>\n",
              "      <td>2008.0</td>\n",
              "      <td>0</td>\n",
              "      <td>NaN</td>\n",
              "      <td>NaN</td>\n",
              "      <td>NaN</td>\n",
              "    </tr>\n",
              "    <tr>\n",
              "      <th>4</th>\n",
              "      <td>1</td>\n",
              "      <td>1</td>\n",
              "      <td>2015-07-27</td>\n",
              "      <td>6102</td>\n",
              "      <td>612</td>\n",
              "      <td>1</td>\n",
              "      <td>1</td>\n",
              "      <td>0</td>\n",
              "      <td>1</td>\n",
              "      <td>c</td>\n",
              "      <td>a</td>\n",
              "      <td>1270.0</td>\n",
              "      <td>9.0</td>\n",
              "      <td>2008.0</td>\n",
              "      <td>0</td>\n",
              "      <td>NaN</td>\n",
              "      <td>NaN</td>\n",
              "      <td>NaN</td>\n",
              "    </tr>\n",
              "    <tr>\n",
              "      <th>...</th>\n",
              "      <td>...</td>\n",
              "      <td>...</td>\n",
              "      <td>...</td>\n",
              "      <td>...</td>\n",
              "      <td>...</td>\n",
              "      <td>...</td>\n",
              "      <td>...</td>\n",
              "      <td>...</td>\n",
              "      <td>...</td>\n",
              "      <td>...</td>\n",
              "      <td>...</td>\n",
              "      <td>...</td>\n",
              "      <td>...</td>\n",
              "      <td>...</td>\n",
              "      <td>...</td>\n",
              "      <td>...</td>\n",
              "      <td>...</td>\n",
              "      <td>...</td>\n",
              "    </tr>\n",
              "    <tr>\n",
              "      <th>1017204</th>\n",
              "      <td>1115</td>\n",
              "      <td>6</td>\n",
              "      <td>2013-01-05</td>\n",
              "      <td>4771</td>\n",
              "      <td>339</td>\n",
              "      <td>1</td>\n",
              "      <td>0</td>\n",
              "      <td>0</td>\n",
              "      <td>1</td>\n",
              "      <td>d</td>\n",
              "      <td>c</td>\n",
              "      <td>5350.0</td>\n",
              "      <td>NaN</td>\n",
              "      <td>NaN</td>\n",
              "      <td>1</td>\n",
              "      <td>22.0</td>\n",
              "      <td>2012.0</td>\n",
              "      <td>Mar,Jun,Sept,Dec</td>\n",
              "    </tr>\n",
              "    <tr>\n",
              "      <th>1017205</th>\n",
              "      <td>1115</td>\n",
              "      <td>5</td>\n",
              "      <td>2013-01-04</td>\n",
              "      <td>4540</td>\n",
              "      <td>326</td>\n",
              "      <td>1</td>\n",
              "      <td>0</td>\n",
              "      <td>0</td>\n",
              "      <td>1</td>\n",
              "      <td>d</td>\n",
              "      <td>c</td>\n",
              "      <td>5350.0</td>\n",
              "      <td>NaN</td>\n",
              "      <td>NaN</td>\n",
              "      <td>1</td>\n",
              "      <td>22.0</td>\n",
              "      <td>2012.0</td>\n",
              "      <td>Mar,Jun,Sept,Dec</td>\n",
              "    </tr>\n",
              "    <tr>\n",
              "      <th>1017206</th>\n",
              "      <td>1115</td>\n",
              "      <td>4</td>\n",
              "      <td>2013-01-03</td>\n",
              "      <td>4297</td>\n",
              "      <td>300</td>\n",
              "      <td>1</td>\n",
              "      <td>0</td>\n",
              "      <td>0</td>\n",
              "      <td>1</td>\n",
              "      <td>d</td>\n",
              "      <td>c</td>\n",
              "      <td>5350.0</td>\n",
              "      <td>NaN</td>\n",
              "      <td>NaN</td>\n",
              "      <td>1</td>\n",
              "      <td>22.0</td>\n",
              "      <td>2012.0</td>\n",
              "      <td>Mar,Jun,Sept,Dec</td>\n",
              "    </tr>\n",
              "    <tr>\n",
              "      <th>1017207</th>\n",
              "      <td>1115</td>\n",
              "      <td>3</td>\n",
              "      <td>2013-01-02</td>\n",
              "      <td>3697</td>\n",
              "      <td>305</td>\n",
              "      <td>1</td>\n",
              "      <td>0</td>\n",
              "      <td>0</td>\n",
              "      <td>1</td>\n",
              "      <td>d</td>\n",
              "      <td>c</td>\n",
              "      <td>5350.0</td>\n",
              "      <td>NaN</td>\n",
              "      <td>NaN</td>\n",
              "      <td>1</td>\n",
              "      <td>22.0</td>\n",
              "      <td>2012.0</td>\n",
              "      <td>Mar,Jun,Sept,Dec</td>\n",
              "    </tr>\n",
              "    <tr>\n",
              "      <th>1017208</th>\n",
              "      <td>1115</td>\n",
              "      <td>2</td>\n",
              "      <td>2013-01-01</td>\n",
              "      <td>0</td>\n",
              "      <td>0</td>\n",
              "      <td>0</td>\n",
              "      <td>0</td>\n",
              "      <td>a</td>\n",
              "      <td>1</td>\n",
              "      <td>d</td>\n",
              "      <td>c</td>\n",
              "      <td>5350.0</td>\n",
              "      <td>NaN</td>\n",
              "      <td>NaN</td>\n",
              "      <td>1</td>\n",
              "      <td>22.0</td>\n",
              "      <td>2012.0</td>\n",
              "      <td>Mar,Jun,Sept,Dec</td>\n",
              "    </tr>\n",
              "  </tbody>\n",
              "</table>\n",
              "<p>1017209 rows × 18 columns</p>\n",
              "</div>\n",
              "      <button class=\"colab-df-convert\" onclick=\"convertToInteractive('df-e3190b9e-e683-48e7-b611-a2ac7cfb9955')\"\n",
              "              title=\"Convert this dataframe to an interactive table.\"\n",
              "              style=\"display:none;\">\n",
              "        \n",
              "  <svg xmlns=\"http://www.w3.org/2000/svg\" height=\"24px\"viewBox=\"0 0 24 24\"\n",
              "       width=\"24px\">\n",
              "    <path d=\"M0 0h24v24H0V0z\" fill=\"none\"/>\n",
              "    <path d=\"M18.56 5.44l.94 2.06.94-2.06 2.06-.94-2.06-.94-.94-2.06-.94 2.06-2.06.94zm-11 1L8.5 8.5l.94-2.06 2.06-.94-2.06-.94L8.5 2.5l-.94 2.06-2.06.94zm10 10l.94 2.06.94-2.06 2.06-.94-2.06-.94-.94-2.06-.94 2.06-2.06.94z\"/><path d=\"M17.41 7.96l-1.37-1.37c-.4-.4-.92-.59-1.43-.59-.52 0-1.04.2-1.43.59L10.3 9.45l-7.72 7.72c-.78.78-.78 2.05 0 2.83L4 21.41c.39.39.9.59 1.41.59.51 0 1.02-.2 1.41-.59l7.78-7.78 2.81-2.81c.8-.78.8-2.07 0-2.86zM5.41 20L4 18.59l7.72-7.72 1.47 1.35L5.41 20z\"/>\n",
              "  </svg>\n",
              "      </button>\n",
              "      \n",
              "  <style>\n",
              "    .colab-df-container {\n",
              "      display:flex;\n",
              "      flex-wrap:wrap;\n",
              "      gap: 12px;\n",
              "    }\n",
              "\n",
              "    .colab-df-convert {\n",
              "      background-color: #E8F0FE;\n",
              "      border: none;\n",
              "      border-radius: 50%;\n",
              "      cursor: pointer;\n",
              "      display: none;\n",
              "      fill: #1967D2;\n",
              "      height: 32px;\n",
              "      padding: 0 0 0 0;\n",
              "      width: 32px;\n",
              "    }\n",
              "\n",
              "    .colab-df-convert:hover {\n",
              "      background-color: #E2EBFA;\n",
              "      box-shadow: 0px 1px 2px rgba(60, 64, 67, 0.3), 0px 1px 3px 1px rgba(60, 64, 67, 0.15);\n",
              "      fill: #174EA6;\n",
              "    }\n",
              "\n",
              "    [theme=dark] .colab-df-convert {\n",
              "      background-color: #3B4455;\n",
              "      fill: #D2E3FC;\n",
              "    }\n",
              "\n",
              "    [theme=dark] .colab-df-convert:hover {\n",
              "      background-color: #434B5C;\n",
              "      box-shadow: 0px 1px 3px 1px rgba(0, 0, 0, 0.15);\n",
              "      filter: drop-shadow(0px 1px 2px rgba(0, 0, 0, 0.3));\n",
              "      fill: #FFFFFF;\n",
              "    }\n",
              "  </style>\n",
              "\n",
              "      <script>\n",
              "        const buttonEl =\n",
              "          document.querySelector('#df-e3190b9e-e683-48e7-b611-a2ac7cfb9955 button.colab-df-convert');\n",
              "        buttonEl.style.display =\n",
              "          google.colab.kernel.accessAllowed ? 'block' : 'none';\n",
              "\n",
              "        async function convertToInteractive(key) {\n",
              "          const element = document.querySelector('#df-e3190b9e-e683-48e7-b611-a2ac7cfb9955');\n",
              "          const dataTable =\n",
              "            await google.colab.kernel.invokeFunction('convertToInteractive',\n",
              "                                                     [key], {});\n",
              "          if (!dataTable) return;\n",
              "\n",
              "          const docLinkHtml = 'Like what you see? Visit the ' +\n",
              "            '<a target=\"_blank\" href=https://colab.research.google.com/notebooks/data_table.ipynb>data table notebook</a>'\n",
              "            + ' to learn more about interactive tables.';\n",
              "          element.innerHTML = '';\n",
              "          dataTable['output_type'] = 'display_data';\n",
              "          await google.colab.output.renderOutput(dataTable, element);\n",
              "          const docLink = document.createElement('div');\n",
              "          docLink.innerHTML = docLinkHtml;\n",
              "          element.appendChild(docLink);\n",
              "        }\n",
              "      </script>\n",
              "    </div>\n",
              "  </div>\n",
              "  "
            ]
          },
          "metadata": {},
          "execution_count": 125
        }
      ]
    },
    {
      "cell_type": "code",
      "source": [
        "All_store.info"
      ],
      "metadata": {
        "colab": {
          "base_uri": "https://localhost:8080/"
        },
        "id": "qs60qcS9ZxNx",
        "outputId": "43e83974-088a-4858-de50-ebdc9c615744"
      },
      "execution_count": null,
      "outputs": [
        {
          "output_type": "execute_result",
          "data": {
            "text/plain": [
              "<bound method DataFrame.info of          Store  DayOfWeek        Date  Sales  Customers  Open  Promo  \\\n",
              "0            1          5  2015-07-31   5263        555     1      1   \n",
              "1            1          4  2015-07-30   5020        546     1      1   \n",
              "2            1          3  2015-07-29   4782        523     1      1   \n",
              "3            1          2  2015-07-28   5011        560     1      1   \n",
              "4            1          1  2015-07-27   6102        612     1      1   \n",
              "...        ...        ...         ...    ...        ...   ...    ...   \n",
              "1017204   1115          6  2013-01-05   4771        339     1      0   \n",
              "1017205   1115          5  2013-01-04   4540        326     1      0   \n",
              "1017206   1115          4  2013-01-03   4297        300     1      0   \n",
              "1017207   1115          3  2013-01-02   3697        305     1      0   \n",
              "1017208   1115          2  2013-01-01      0          0     0      0   \n",
              "\n",
              "        StateHoliday  SchoolHoliday StoreType Assortment  CompetitionDistance  \\\n",
              "0                  0              1         c          a               1270.0   \n",
              "1                  0              1         c          a               1270.0   \n",
              "2                  0              1         c          a               1270.0   \n",
              "3                  0              1         c          a               1270.0   \n",
              "4                  0              1         c          a               1270.0   \n",
              "...              ...            ...       ...        ...                  ...   \n",
              "1017204            0              1         d          c               5350.0   \n",
              "1017205            0              1         d          c               5350.0   \n",
              "1017206            0              1         d          c               5350.0   \n",
              "1017207            0              1         d          c               5350.0   \n",
              "1017208            a              1         d          c               5350.0   \n",
              "\n",
              "         CompetitionOpenSinceMonth  CompetitionOpenSinceYear  Promo2  \\\n",
              "0                              9.0                    2008.0       0   \n",
              "1                              9.0                    2008.0       0   \n",
              "2                              9.0                    2008.0       0   \n",
              "3                              9.0                    2008.0       0   \n",
              "4                              9.0                    2008.0       0   \n",
              "...                            ...                       ...     ...   \n",
              "1017204                        NaN                       NaN       1   \n",
              "1017205                        NaN                       NaN       1   \n",
              "1017206                        NaN                       NaN       1   \n",
              "1017207                        NaN                       NaN       1   \n",
              "1017208                        NaN                       NaN       1   \n",
              "\n",
              "         Promo2SinceWeek  Promo2SinceYear     PromoInterval  \n",
              "0                    NaN              NaN               NaN  \n",
              "1                    NaN              NaN               NaN  \n",
              "2                    NaN              NaN               NaN  \n",
              "3                    NaN              NaN               NaN  \n",
              "4                    NaN              NaN               NaN  \n",
              "...                  ...              ...               ...  \n",
              "1017204             22.0           2012.0  Mar,Jun,Sept,Dec  \n",
              "1017205             22.0           2012.0  Mar,Jun,Sept,Dec  \n",
              "1017206             22.0           2012.0  Mar,Jun,Sept,Dec  \n",
              "1017207             22.0           2012.0  Mar,Jun,Sept,Dec  \n",
              "1017208             22.0           2012.0  Mar,Jun,Sept,Dec  \n",
              "\n",
              "[1017209 rows x 18 columns]>"
            ]
          },
          "metadata": {},
          "execution_count": 126
        }
      ]
    },
    {
      "cell_type": "code",
      "source": [
        "# converting the date column to datetime to extract year, month, day\n",
        "All_store['Date'] = pd.to_datetime(All_store['Date'])"
      ],
      "metadata": {
        "id": "syrs52Mua0gV"
      },
      "execution_count": null,
      "outputs": []
    },
    {
      "cell_type": "code",
      "source": [
        "All_store['year'] = pd.DatetimeIndex(All_store['Date']).year\n",
        "\n",
        "All_store['month'] = pd.DatetimeIndex(All_store['Date']).month\n",
        "\n",
        "All_store['day'] = pd.DatetimeIndex(All_store['Date']).day"
      ],
      "metadata": {
        "id": "3uxiuiUIbt7V"
      },
      "execution_count": null,
      "outputs": []
    },
    {
      "cell_type": "code",
      "source": [
        "#dropping date coloumn as we have extracted year, month and day\n",
        "All_store.drop(['Date'], axis=1, inplace = True)"
      ],
      "metadata": {
        "id": "4WsjMfe-dD8F"
      },
      "execution_count": null,
      "outputs": []
    },
    {
      "cell_type": "markdown",
      "source": [],
      "metadata": {
        "id": "yT6U9vnddfHy"
      }
    },
    {
      "cell_type": "code",
      "source": [
        "# Replacing all object to numerical value\n",
        "All_store['StoreType'].replace (['a', 'b', 'c', 'd'], [0,1,2,3], inplace=True )"
      ],
      "metadata": {
        "id": "3N1OdVu_eX0-"
      },
      "execution_count": null,
      "outputs": []
    },
    {
      "cell_type": "code",
      "source": [
        "All_store['Assortment'].replace (['a', 'b', 'c'], [0,1,2], inplace=True )"
      ],
      "metadata": {
        "id": "xFuQEUxVVgQT"
      },
      "execution_count": null,
      "outputs": []
    },
    {
      "cell_type": "code",
      "source": [
        "All_store['StateHoliday'].replace (['0', 'a', 'b', 'c'], [0,1,2,3], inplace=True )"
      ],
      "metadata": {
        "id": "0dqCVsmbWLsO"
      },
      "execution_count": null,
      "outputs": []
    },
    {
      "cell_type": "code",
      "source": [
        "All_store['PromoInterval'].replace (['Jan,Apr,Jul,Oct', 'Feb,May,Aug,Nov', 'Mar,Jun,Sept,Dec'], [1,2,3], inplace=True)"
      ],
      "metadata": {
        "id": "iYyWFzzQXWL9"
      },
      "execution_count": null,
      "outputs": []
    },
    {
      "cell_type": "code",
      "source": [
        "# Checking if the all the columns are converted to int or float\n",
        "All_store.dtypes"
      ],
      "metadata": {
        "colab": {
          "base_uri": "https://localhost:8080/"
        },
        "id": "nyysNDrhZ2IM",
        "outputId": "dc56adfc-0884-48cf-d935-99ccffb4a153"
      },
      "execution_count": null,
      "outputs": [
        {
          "output_type": "execute_result",
          "data": {
            "text/plain": [
              "Store                          int64\n",
              "DayOfWeek                      int64\n",
              "Sales                          int64\n",
              "Customers                      int64\n",
              "Open                           int64\n",
              "Promo                          int64\n",
              "StateHoliday                   int64\n",
              "SchoolHoliday                  int64\n",
              "StoreType                      int64\n",
              "Assortment                     int64\n",
              "CompetitionDistance          float64\n",
              "CompetitionOpenSinceMonth    float64\n",
              "CompetitionOpenSinceYear     float64\n",
              "Promo2                         int64\n",
              "Promo2SinceWeek              float64\n",
              "Promo2SinceYear              float64\n",
              "PromoInterval                float64\n",
              "year                           int64\n",
              "month                          int64\n",
              "day                            int64\n",
              "dtype: object"
            ]
          },
          "metadata": {},
          "execution_count": 134
        }
      ]
    },
    {
      "cell_type": "code",
      "source": [
        "# Checking forthe unique values\n",
        "All_store.nunique()"
      ],
      "metadata": {
        "colab": {
          "base_uri": "https://localhost:8080/"
        },
        "id": "HnN4nNtFiNXP",
        "outputId": "cccd9ac5-99cd-481d-eca7-339c32400159"
      },
      "execution_count": null,
      "outputs": [
        {
          "output_type": "execute_result",
          "data": {
            "text/plain": [
              "Store                         1115\n",
              "DayOfWeek                        7\n",
              "Sales                        21734\n",
              "Customers                     4086\n",
              "Open                             2\n",
              "Promo                            2\n",
              "StateHoliday                     4\n",
              "SchoolHoliday                    2\n",
              "StoreType                        4\n",
              "Assortment                       3\n",
              "CompetitionDistance            654\n",
              "CompetitionOpenSinceMonth       12\n",
              "CompetitionOpenSinceYear        23\n",
              "Promo2                           2\n",
              "Promo2SinceWeek                 24\n",
              "Promo2SinceYear                  7\n",
              "PromoInterval                    3\n",
              "year                             3\n",
              "month                           12\n",
              "day                             31\n",
              "dtype: int64"
            ]
          },
          "metadata": {},
          "execution_count": 135
        }
      ]
    },
    {
      "cell_type": "code",
      "source": [
        "# Checking for the null values\n",
        "All_store.isnull().sum()"
      ],
      "metadata": {
        "colab": {
          "base_uri": "https://localhost:8080/"
        },
        "id": "quOHSzNwi40f",
        "outputId": "17654ad7-c920-49f1-df0b-d9b078df1569"
      },
      "execution_count": null,
      "outputs": [
        {
          "output_type": "execute_result",
          "data": {
            "text/plain": [
              "Store                             0\n",
              "DayOfWeek                         0\n",
              "Sales                             0\n",
              "Customers                         0\n",
              "Open                              0\n",
              "Promo                             0\n",
              "StateHoliday                      0\n",
              "SchoolHoliday                     0\n",
              "StoreType                         0\n",
              "Assortment                        0\n",
              "CompetitionDistance            2642\n",
              "CompetitionOpenSinceMonth    323348\n",
              "CompetitionOpenSinceYear     323348\n",
              "Promo2                            0\n",
              "Promo2SinceWeek              508031\n",
              "Promo2SinceYear              508031\n",
              "PromoInterval                508031\n",
              "year                              0\n",
              "month                             0\n",
              "day                               0\n",
              "dtype: int64"
            ]
          },
          "metadata": {},
          "execution_count": 136
        }
      ]
    },
    {
      "cell_type": "code",
      "source": [
        "# Percentage of the null values\n",
        "All_store.isnull().mean()"
      ],
      "metadata": {
        "colab": {
          "base_uri": "https://localhost:8080/"
        },
        "id": "MFtXPEkfk_Yy",
        "outputId": "9116fdb6-247b-45e2-e87a-8bf2350b6dc9"
      },
      "execution_count": null,
      "outputs": [
        {
          "output_type": "execute_result",
          "data": {
            "text/plain": [
              "Store                        0.000000\n",
              "DayOfWeek                    0.000000\n",
              "Sales                        0.000000\n",
              "Customers                    0.000000\n",
              "Open                         0.000000\n",
              "Promo                        0.000000\n",
              "StateHoliday                 0.000000\n",
              "SchoolHoliday                0.000000\n",
              "StoreType                    0.000000\n",
              "Assortment                   0.000000\n",
              "CompetitionDistance          0.002597\n",
              "CompetitionOpenSinceMonth    0.317878\n",
              "CompetitionOpenSinceYear     0.317878\n",
              "Promo2                       0.000000\n",
              "Promo2SinceWeek              0.499436\n",
              "Promo2SinceYear              0.499436\n",
              "PromoInterval                0.499436\n",
              "year                         0.000000\n",
              "month                        0.000000\n",
              "day                          0.000000\n",
              "dtype: float64"
            ]
          },
          "metadata": {},
          "execution_count": 137
        }
      ]
    },
    {
      "cell_type": "code",
      "source": [
        "# Considering there is not competation in a null areas, so addding 0 to the null values\n",
        "All_store['CompetitionDistance'] = All_store['CompetitionDistance'].fillna(0)"
      ],
      "metadata": {
        "id": "x4TuJOPEmg6g"
      },
      "execution_count": null,
      "outputs": []
    },
    {
      "cell_type": "code",
      "source": [
        "pd.isnull(All_store['CompetitionDistance']).sum()"
      ],
      "metadata": {
        "colab": {
          "base_uri": "https://localhost:8080/"
        },
        "id": "ZC1Om45VpA0q",
        "outputId": "6f3d00d8-2231-451a-ad09-f9f3e0b08a36"
      },
      "execution_count": null,
      "outputs": [
        {
          "output_type": "execute_result",
          "data": {
            "text/plain": [
              "0"
            ]
          },
          "metadata": {},
          "execution_count": 139
        }
      ]
    },
    {
      "cell_type": "code",
      "source": [
        "All_store['CompetitionOpenSinceYear'] = All_store['CompetitionOpenSinceYear'].fillna(All_store['CompetitionOpenSinceYear'].mean())"
      ],
      "metadata": {
        "id": "SlvoHX3lqwdZ"
      },
      "execution_count": null,
      "outputs": []
    },
    {
      "cell_type": "code",
      "source": [
        "All_store['CompetitionOpenSinceMonth'] = All_store['CompetitionOpenSinceMonth'].fillna(All_store['CompetitionOpenSinceMonth'].mean())"
      ],
      "metadata": {
        "id": "0V7Ep2PIpJlG"
      },
      "execution_count": null,
      "outputs": []
    },
    {
      "cell_type": "code",
      "source": [
        "# The columns in which promo2 was not done so there date and year is not available so filling the null value with 0\n",
        "All_store['Promo2SinceWeek'] = All_store['Promo2SinceWeek'].fillna(0)\n",
        "All_store['Promo2SinceYear'] = All_store['Promo2SinceYear'].fillna(0)\n",
        "All_store['PromoInterval'] = All_store['PromoInterval'].fillna(0)"
      ],
      "metadata": {
        "id": "3EHUqrXvqovv"
      },
      "execution_count": null,
      "outputs": []
    },
    {
      "cell_type": "code",
      "source": [
        "# Checking all the null values are filled\n",
        "All_store.isnull().mean()"
      ],
      "metadata": {
        "colab": {
          "base_uri": "https://localhost:8080/"
        },
        "id": "MxlOPVnftbTN",
        "outputId": "b3a072a4-d8ad-4ca8-f2f4-072a5fcc3327"
      },
      "execution_count": null,
      "outputs": [
        {
          "output_type": "execute_result",
          "data": {
            "text/plain": [
              "Store                        0.0\n",
              "DayOfWeek                    0.0\n",
              "Sales                        0.0\n",
              "Customers                    0.0\n",
              "Open                         0.0\n",
              "Promo                        0.0\n",
              "StateHoliday                 0.0\n",
              "SchoolHoliday                0.0\n",
              "StoreType                    0.0\n",
              "Assortment                   0.0\n",
              "CompetitionDistance          0.0\n",
              "CompetitionOpenSinceMonth    0.0\n",
              "CompetitionOpenSinceYear     0.0\n",
              "Promo2                       0.0\n",
              "Promo2SinceWeek              0.0\n",
              "Promo2SinceYear              0.0\n",
              "PromoInterval                0.0\n",
              "year                         0.0\n",
              "month                        0.0\n",
              "day                          0.0\n",
              "dtype: float64"
            ]
          },
          "metadata": {},
          "execution_count": 143
        }
      ]
    },
    {
      "cell_type": "code",
      "source": [
        "round(All_store.describe(),2)"
      ],
      "metadata": {
        "colab": {
          "base_uri": "https://localhost:8080/",
          "height": 364
        },
        "id": "9hiLSHVgt07-",
        "outputId": "d0ae2fc8-4f9c-4d3c-fe3c-0ea61d2ad219"
      },
      "execution_count": null,
      "outputs": [
        {
          "output_type": "execute_result",
          "data": {
            "text/plain": [
              "            Store  DayOfWeek       Sales   Customers        Open       Promo  \\\n",
              "count  1017209.00  1017209.0  1017209.00  1017209.00  1017209.00  1017209.00   \n",
              "mean       558.43        4.0     5773.82      633.15        0.83        0.38   \n",
              "std        321.91        2.0     3849.93      464.41        0.38        0.49   \n",
              "min          1.00        1.0        0.00        0.00        0.00        0.00   \n",
              "25%        280.00        2.0     3727.00      405.00        1.00        0.00   \n",
              "50%        558.00        4.0     5744.00      609.00        1.00        0.00   \n",
              "75%        838.00        6.0     7856.00      837.00        1.00        1.00   \n",
              "max       1115.00        7.0    41551.00     7388.00        1.00        1.00   \n",
              "\n",
              "       StateHoliday  SchoolHoliday   StoreType  Assortment  \\\n",
              "count    1017209.00     1017209.00  1017209.00  1017209.00   \n",
              "mean           0.05           0.18        1.21        0.94   \n",
              "std            0.28           0.38        1.37        0.99   \n",
              "min            0.00           0.00        0.00        0.00   \n",
              "25%            0.00           0.00        0.00        0.00   \n",
              "50%            0.00           0.00        0.00        0.00   \n",
              "75%            0.00           0.00        3.00        2.00   \n",
              "max            3.00           1.00        3.00        2.00   \n",
              "\n",
              "       CompetitionDistance  CompetitionOpenSinceMonth  \\\n",
              "count           1017209.00                 1017209.00   \n",
              "mean               5415.98                       7.22   \n",
              "std                7710.25                       2.65   \n",
              "min                   0.00                       1.00   \n",
              "25%                 700.00                       6.00   \n",
              "50%                2320.00                       7.22   \n",
              "75%                6880.00                       9.00   \n",
              "max               75860.00                      12.00   \n",
              "\n",
              "       CompetitionOpenSinceYear     Promo2  Promo2SinceWeek  Promo2SinceYear  \\\n",
              "count                1017209.00  1017209.0       1017209.00       1017209.00   \n",
              "mean                    2008.69        0.5            11.65          1007.01   \n",
              "std                        4.95        0.5            15.32          1005.88   \n",
              "min                     1900.00        0.0             0.00             0.00   \n",
              "25%                     2008.00        0.0             0.00             0.00   \n",
              "50%                     2008.69        1.0             1.00          2009.00   \n",
              "75%                     2011.00        1.0            22.00          2012.00   \n",
              "max                     2015.00        1.0            50.00          2015.00   \n",
              "\n",
              "       PromoInterval        year       month         day  \n",
              "count     1017209.00  1017209.00  1017209.00  1017209.00  \n",
              "mean            0.81     2013.83        5.85       15.70  \n",
              "std             0.98        0.78        3.33        8.79  \n",
              "min             0.00     2013.00        1.00        1.00  \n",
              "25%             0.00     2013.00        3.00        8.00  \n",
              "50%             1.00     2014.00        6.00       16.00  \n",
              "75%             1.00     2014.00        8.00       23.00  \n",
              "max             3.00     2015.00       12.00       31.00  "
            ],
            "text/html": [
              "\n",
              "  <div id=\"df-1f4e24f9-2a42-4a55-8670-d55a5d872993\">\n",
              "    <div class=\"colab-df-container\">\n",
              "      <div>\n",
              "<style scoped>\n",
              "    .dataframe tbody tr th:only-of-type {\n",
              "        vertical-align: middle;\n",
              "    }\n",
              "\n",
              "    .dataframe tbody tr th {\n",
              "        vertical-align: top;\n",
              "    }\n",
              "\n",
              "    .dataframe thead th {\n",
              "        text-align: right;\n",
              "    }\n",
              "</style>\n",
              "<table border=\"1\" class=\"dataframe\">\n",
              "  <thead>\n",
              "    <tr style=\"text-align: right;\">\n",
              "      <th></th>\n",
              "      <th>Store</th>\n",
              "      <th>DayOfWeek</th>\n",
              "      <th>Sales</th>\n",
              "      <th>Customers</th>\n",
              "      <th>Open</th>\n",
              "      <th>Promo</th>\n",
              "      <th>StateHoliday</th>\n",
              "      <th>SchoolHoliday</th>\n",
              "      <th>StoreType</th>\n",
              "      <th>Assortment</th>\n",
              "      <th>CompetitionDistance</th>\n",
              "      <th>CompetitionOpenSinceMonth</th>\n",
              "      <th>CompetitionOpenSinceYear</th>\n",
              "      <th>Promo2</th>\n",
              "      <th>Promo2SinceWeek</th>\n",
              "      <th>Promo2SinceYear</th>\n",
              "      <th>PromoInterval</th>\n",
              "      <th>year</th>\n",
              "      <th>month</th>\n",
              "      <th>day</th>\n",
              "    </tr>\n",
              "  </thead>\n",
              "  <tbody>\n",
              "    <tr>\n",
              "      <th>count</th>\n",
              "      <td>1017209.00</td>\n",
              "      <td>1017209.0</td>\n",
              "      <td>1017209.00</td>\n",
              "      <td>1017209.00</td>\n",
              "      <td>1017209.00</td>\n",
              "      <td>1017209.00</td>\n",
              "      <td>1017209.00</td>\n",
              "      <td>1017209.00</td>\n",
              "      <td>1017209.00</td>\n",
              "      <td>1017209.00</td>\n",
              "      <td>1017209.00</td>\n",
              "      <td>1017209.00</td>\n",
              "      <td>1017209.00</td>\n",
              "      <td>1017209.0</td>\n",
              "      <td>1017209.00</td>\n",
              "      <td>1017209.00</td>\n",
              "      <td>1017209.00</td>\n",
              "      <td>1017209.00</td>\n",
              "      <td>1017209.00</td>\n",
              "      <td>1017209.00</td>\n",
              "    </tr>\n",
              "    <tr>\n",
              "      <th>mean</th>\n",
              "      <td>558.43</td>\n",
              "      <td>4.0</td>\n",
              "      <td>5773.82</td>\n",
              "      <td>633.15</td>\n",
              "      <td>0.83</td>\n",
              "      <td>0.38</td>\n",
              "      <td>0.05</td>\n",
              "      <td>0.18</td>\n",
              "      <td>1.21</td>\n",
              "      <td>0.94</td>\n",
              "      <td>5415.98</td>\n",
              "      <td>7.22</td>\n",
              "      <td>2008.69</td>\n",
              "      <td>0.5</td>\n",
              "      <td>11.65</td>\n",
              "      <td>1007.01</td>\n",
              "      <td>0.81</td>\n",
              "      <td>2013.83</td>\n",
              "      <td>5.85</td>\n",
              "      <td>15.70</td>\n",
              "    </tr>\n",
              "    <tr>\n",
              "      <th>std</th>\n",
              "      <td>321.91</td>\n",
              "      <td>2.0</td>\n",
              "      <td>3849.93</td>\n",
              "      <td>464.41</td>\n",
              "      <td>0.38</td>\n",
              "      <td>0.49</td>\n",
              "      <td>0.28</td>\n",
              "      <td>0.38</td>\n",
              "      <td>1.37</td>\n",
              "      <td>0.99</td>\n",
              "      <td>7710.25</td>\n",
              "      <td>2.65</td>\n",
              "      <td>4.95</td>\n",
              "      <td>0.5</td>\n",
              "      <td>15.32</td>\n",
              "      <td>1005.88</td>\n",
              "      <td>0.98</td>\n",
              "      <td>0.78</td>\n",
              "      <td>3.33</td>\n",
              "      <td>8.79</td>\n",
              "    </tr>\n",
              "    <tr>\n",
              "      <th>min</th>\n",
              "      <td>1.00</td>\n",
              "      <td>1.0</td>\n",
              "      <td>0.00</td>\n",
              "      <td>0.00</td>\n",
              "      <td>0.00</td>\n",
              "      <td>0.00</td>\n",
              "      <td>0.00</td>\n",
              "      <td>0.00</td>\n",
              "      <td>0.00</td>\n",
              "      <td>0.00</td>\n",
              "      <td>0.00</td>\n",
              "      <td>1.00</td>\n",
              "      <td>1900.00</td>\n",
              "      <td>0.0</td>\n",
              "      <td>0.00</td>\n",
              "      <td>0.00</td>\n",
              "      <td>0.00</td>\n",
              "      <td>2013.00</td>\n",
              "      <td>1.00</td>\n",
              "      <td>1.00</td>\n",
              "    </tr>\n",
              "    <tr>\n",
              "      <th>25%</th>\n",
              "      <td>280.00</td>\n",
              "      <td>2.0</td>\n",
              "      <td>3727.00</td>\n",
              "      <td>405.00</td>\n",
              "      <td>1.00</td>\n",
              "      <td>0.00</td>\n",
              "      <td>0.00</td>\n",
              "      <td>0.00</td>\n",
              "      <td>0.00</td>\n",
              "      <td>0.00</td>\n",
              "      <td>700.00</td>\n",
              "      <td>6.00</td>\n",
              "      <td>2008.00</td>\n",
              "      <td>0.0</td>\n",
              "      <td>0.00</td>\n",
              "      <td>0.00</td>\n",
              "      <td>0.00</td>\n",
              "      <td>2013.00</td>\n",
              "      <td>3.00</td>\n",
              "      <td>8.00</td>\n",
              "    </tr>\n",
              "    <tr>\n",
              "      <th>50%</th>\n",
              "      <td>558.00</td>\n",
              "      <td>4.0</td>\n",
              "      <td>5744.00</td>\n",
              "      <td>609.00</td>\n",
              "      <td>1.00</td>\n",
              "      <td>0.00</td>\n",
              "      <td>0.00</td>\n",
              "      <td>0.00</td>\n",
              "      <td>0.00</td>\n",
              "      <td>0.00</td>\n",
              "      <td>2320.00</td>\n",
              "      <td>7.22</td>\n",
              "      <td>2008.69</td>\n",
              "      <td>1.0</td>\n",
              "      <td>1.00</td>\n",
              "      <td>2009.00</td>\n",
              "      <td>1.00</td>\n",
              "      <td>2014.00</td>\n",
              "      <td>6.00</td>\n",
              "      <td>16.00</td>\n",
              "    </tr>\n",
              "    <tr>\n",
              "      <th>75%</th>\n",
              "      <td>838.00</td>\n",
              "      <td>6.0</td>\n",
              "      <td>7856.00</td>\n",
              "      <td>837.00</td>\n",
              "      <td>1.00</td>\n",
              "      <td>1.00</td>\n",
              "      <td>0.00</td>\n",
              "      <td>0.00</td>\n",
              "      <td>3.00</td>\n",
              "      <td>2.00</td>\n",
              "      <td>6880.00</td>\n",
              "      <td>9.00</td>\n",
              "      <td>2011.00</td>\n",
              "      <td>1.0</td>\n",
              "      <td>22.00</td>\n",
              "      <td>2012.00</td>\n",
              "      <td>1.00</td>\n",
              "      <td>2014.00</td>\n",
              "      <td>8.00</td>\n",
              "      <td>23.00</td>\n",
              "    </tr>\n",
              "    <tr>\n",
              "      <th>max</th>\n",
              "      <td>1115.00</td>\n",
              "      <td>7.0</td>\n",
              "      <td>41551.00</td>\n",
              "      <td>7388.00</td>\n",
              "      <td>1.00</td>\n",
              "      <td>1.00</td>\n",
              "      <td>3.00</td>\n",
              "      <td>1.00</td>\n",
              "      <td>3.00</td>\n",
              "      <td>2.00</td>\n",
              "      <td>75860.00</td>\n",
              "      <td>12.00</td>\n",
              "      <td>2015.00</td>\n",
              "      <td>1.0</td>\n",
              "      <td>50.00</td>\n",
              "      <td>2015.00</td>\n",
              "      <td>3.00</td>\n",
              "      <td>2015.00</td>\n",
              "      <td>12.00</td>\n",
              "      <td>31.00</td>\n",
              "    </tr>\n",
              "  </tbody>\n",
              "</table>\n",
              "</div>\n",
              "      <button class=\"colab-df-convert\" onclick=\"convertToInteractive('df-1f4e24f9-2a42-4a55-8670-d55a5d872993')\"\n",
              "              title=\"Convert this dataframe to an interactive table.\"\n",
              "              style=\"display:none;\">\n",
              "        \n",
              "  <svg xmlns=\"http://www.w3.org/2000/svg\" height=\"24px\"viewBox=\"0 0 24 24\"\n",
              "       width=\"24px\">\n",
              "    <path d=\"M0 0h24v24H0V0z\" fill=\"none\"/>\n",
              "    <path d=\"M18.56 5.44l.94 2.06.94-2.06 2.06-.94-2.06-.94-.94-2.06-.94 2.06-2.06.94zm-11 1L8.5 8.5l.94-2.06 2.06-.94-2.06-.94L8.5 2.5l-.94 2.06-2.06.94zm10 10l.94 2.06.94-2.06 2.06-.94-2.06-.94-.94-2.06-.94 2.06-2.06.94z\"/><path d=\"M17.41 7.96l-1.37-1.37c-.4-.4-.92-.59-1.43-.59-.52 0-1.04.2-1.43.59L10.3 9.45l-7.72 7.72c-.78.78-.78 2.05 0 2.83L4 21.41c.39.39.9.59 1.41.59.51 0 1.02-.2 1.41-.59l7.78-7.78 2.81-2.81c.8-.78.8-2.07 0-2.86zM5.41 20L4 18.59l7.72-7.72 1.47 1.35L5.41 20z\"/>\n",
              "  </svg>\n",
              "      </button>\n",
              "      \n",
              "  <style>\n",
              "    .colab-df-container {\n",
              "      display:flex;\n",
              "      flex-wrap:wrap;\n",
              "      gap: 12px;\n",
              "    }\n",
              "\n",
              "    .colab-df-convert {\n",
              "      background-color: #E8F0FE;\n",
              "      border: none;\n",
              "      border-radius: 50%;\n",
              "      cursor: pointer;\n",
              "      display: none;\n",
              "      fill: #1967D2;\n",
              "      height: 32px;\n",
              "      padding: 0 0 0 0;\n",
              "      width: 32px;\n",
              "    }\n",
              "\n",
              "    .colab-df-convert:hover {\n",
              "      background-color: #E2EBFA;\n",
              "      box-shadow: 0px 1px 2px rgba(60, 64, 67, 0.3), 0px 1px 3px 1px rgba(60, 64, 67, 0.15);\n",
              "      fill: #174EA6;\n",
              "    }\n",
              "\n",
              "    [theme=dark] .colab-df-convert {\n",
              "      background-color: #3B4455;\n",
              "      fill: #D2E3FC;\n",
              "    }\n",
              "\n",
              "    [theme=dark] .colab-df-convert:hover {\n",
              "      background-color: #434B5C;\n",
              "      box-shadow: 0px 1px 3px 1px rgba(0, 0, 0, 0.15);\n",
              "      filter: drop-shadow(0px 1px 2px rgba(0, 0, 0, 0.3));\n",
              "      fill: #FFFFFF;\n",
              "    }\n",
              "  </style>\n",
              "\n",
              "      <script>\n",
              "        const buttonEl =\n",
              "          document.querySelector('#df-1f4e24f9-2a42-4a55-8670-d55a5d872993 button.colab-df-convert');\n",
              "        buttonEl.style.display =\n",
              "          google.colab.kernel.accessAllowed ? 'block' : 'none';\n",
              "\n",
              "        async function convertToInteractive(key) {\n",
              "          const element = document.querySelector('#df-1f4e24f9-2a42-4a55-8670-d55a5d872993');\n",
              "          const dataTable =\n",
              "            await google.colab.kernel.invokeFunction('convertToInteractive',\n",
              "                                                     [key], {});\n",
              "          if (!dataTable) return;\n",
              "\n",
              "          const docLinkHtml = 'Like what you see? Visit the ' +\n",
              "            '<a target=\"_blank\" href=https://colab.research.google.com/notebooks/data_table.ipynb>data table notebook</a>'\n",
              "            + ' to learn more about interactive tables.';\n",
              "          element.innerHTML = '';\n",
              "          dataTable['output_type'] = 'display_data';\n",
              "          await google.colab.output.renderOutput(dataTable, element);\n",
              "          const docLink = document.createElement('div');\n",
              "          docLink.innerHTML = docLinkHtml;\n",
              "          element.appendChild(docLink);\n",
              "        }\n",
              "      </script>\n",
              "    </div>\n",
              "  </div>\n",
              "  "
            ]
          },
          "metadata": {},
          "execution_count": 144
        }
      ]
    },
    {
      "cell_type": "code",
      "source": [
        "All_store.corr()"
      ],
      "metadata": {
        "colab": {
          "base_uri": "https://localhost:8080/",
          "height": 740
        },
        "id": "HJc1T6HSuMYo",
        "outputId": "423cbe1e-918c-4316-b7c9-725b603572a8"
      },
      "execution_count": null,
      "outputs": [
        {
          "output_type": "execute_result",
          "data": {
            "text/plain": [
              "                              Store  DayOfWeek     Sales  Customers      Open  \\\n",
              "Store                      1.000000  -0.000008  0.005126   0.024325 -0.000047   \n",
              "DayOfWeek                 -0.000008   1.000000 -0.462125  -0.386445 -0.528963   \n",
              "Sales                      0.005126  -0.462125  1.000000   0.894711  0.678472   \n",
              "Customers                  0.024325  -0.386445  0.894711   1.000000  0.616768   \n",
              "Open                      -0.000047  -0.528963  0.678472   0.616768  1.000000   \n",
              "Promo                      0.000058  -0.392925  0.452345   0.316169  0.295042   \n",
              "StateHoliday               0.000362  -0.044265 -0.229029  -0.204295 -0.340893   \n",
              "SchoolHoliday              0.000641  -0.205388  0.085124   0.071568  0.086171   \n",
              "StoreType                 -0.021604   0.000051 -0.013057  -0.141423 -0.003325   \n",
              "Assortment                 0.004419  -0.000052  0.074941   0.007044  0.002972   \n",
              "CompetitionDistance       -0.026486  -0.000025 -0.018609  -0.102022  0.007989   \n",
              "CompetitionOpenSinceMonth -0.041990   0.000005 -0.023489  -0.025098  0.001144   \n",
              "CompetitionOpenSinceYear  -0.003800  -0.000021  0.010523   0.007241  0.002290   \n",
              "Promo2                     0.008488   0.000168 -0.091040  -0.150159 -0.008309   \n",
              "Promo2SinceWeek            0.011053   0.000208 -0.044143  -0.098323 -0.007436   \n",
              "Promo2SinceYear            0.008520   0.000168 -0.091056  -0.150138 -0.008308   \n",
              "PromoInterval             -0.000898   0.000074 -0.092635  -0.135765 -0.006659   \n",
              "year                       0.000290   0.001937  0.023519  -0.001212 -0.001009   \n",
              "month                      0.001467  -0.005362  0.048768   0.038179 -0.000681   \n",
              "day                        0.000023   0.005136 -0.011612  -0.004473  0.033428   \n",
              "\n",
              "                              Promo  StateHoliday  SchoolHoliday  StoreType  \\\n",
              "Store                      0.000058      0.000362       0.000641  -0.021604   \n",
              "DayOfWeek                 -0.392925     -0.044265      -0.205388   0.000051   \n",
              "Sales                      0.452345     -0.229029       0.085124  -0.013057   \n",
              "Customers                  0.316169     -0.204295       0.071568  -0.141423   \n",
              "Open                       0.295042     -0.340893       0.086171  -0.003325   \n",
              "Promo                      1.000000     -0.024157       0.067483  -0.000299   \n",
              "StateHoliday              -0.024157      1.000000       0.196424   0.001360   \n",
              "SchoolHoliday              0.067483      0.196424       1.000000   0.000032   \n",
              "StoreType                 -0.000299      0.001360       0.000032   1.000000   \n",
              "Assortment                 0.000294     -0.001497      -0.002530   0.232862   \n",
              "CompetitionDistance        0.000141     -0.000400      -0.003651   0.077056   \n",
              "CompetitionOpenSinceMonth -0.000019      0.000428      -0.000434   0.021974   \n",
              "CompetitionOpenSinceYear   0.000126     -0.002025       0.001254   0.020492   \n",
              "Promo2                    -0.000983      0.004839      -0.006909   0.088922   \n",
              "Promo2SinceWeek           -0.001210      0.004622      -0.006679   0.059704   \n",
              "Promo2SinceYear           -0.000983      0.004839      -0.006912   0.088865   \n",
              "PromoInterval             -0.000437      0.002981      -0.005785   0.092566   \n",
              "year                       0.024300     -0.005067      -0.036535  -0.001514   \n",
              "month                     -0.011747      0.038058       0.103282  -0.007692   \n",
              "day                       -0.108325     -0.015652       0.030538  -0.000109   \n",
              "\n",
              "                           Assortment  CompetitionDistance  \\\n",
              "Store                        0.004419            -0.026486   \n",
              "DayOfWeek                   -0.000052            -0.000025   \n",
              "Sales                        0.074941            -0.018609   \n",
              "Customers                    0.007044            -0.102022   \n",
              "Open                         0.002972             0.007989   \n",
              "Promo                        0.000294             0.000141   \n",
              "StateHoliday                -0.001497            -0.000400   \n",
              "SchoolHoliday               -0.002530            -0.003651   \n",
              "StoreType                    0.232862             0.077056   \n",
              "Assortment                   1.000000             0.146695   \n",
              "CompetitionDistance          0.146695             1.000000   \n",
              "CompetitionOpenSinceMonth   -0.000528            -0.051704   \n",
              "CompetitionOpenSinceYear     0.050380             0.021309   \n",
              "Promo2                       0.008220            -0.138832   \n",
              "Promo2SinceWeek             -0.030182            -0.122348   \n",
              "Promo2SinceYear              0.008267            -0.138896   \n",
              "PromoInterval                0.043246            -0.120211   \n",
              "year                         0.001494             0.000716   \n",
              "month                        0.007601             0.003643   \n",
              "day                          0.000104             0.000050   \n",
              "\n",
              "                           CompetitionOpenSinceMonth  \\\n",
              "Store                                      -0.041990   \n",
              "DayOfWeek                                   0.000005   \n",
              "Sales                                      -0.023489   \n",
              "Customers                                  -0.025098   \n",
              "Open                                        0.001144   \n",
              "Promo                                      -0.000019   \n",
              "StateHoliday                                0.000428   \n",
              "SchoolHoliday                              -0.000434   \n",
              "StoreType                                   0.021974   \n",
              "Assortment                                 -0.000528   \n",
              "CompetitionDistance                        -0.051704   \n",
              "CompetitionOpenSinceMonth                   1.000000   \n",
              "CompetitionOpenSinceYear                   -0.060594   \n",
              "Promo2                                     -0.007733   \n",
              "Promo2SinceWeek                            -0.018114   \n",
              "Promo2SinceYear                            -0.007701   \n",
              "PromoInterval                               0.040857   \n",
              "year                                       -0.000100   \n",
              "month                                      -0.000515   \n",
              "day                                        -0.000005   \n",
              "\n",
              "                           CompetitionOpenSinceYear    Promo2  \\\n",
              "Store                                     -0.003800  0.008488   \n",
              "DayOfWeek                                 -0.000021  0.000168   \n",
              "Sales                                      0.010523 -0.091040   \n",
              "Customers                                  0.007241 -0.150159   \n",
              "Open                                       0.002290 -0.008309   \n",
              "Promo                                      0.000126 -0.000983   \n",
              "StateHoliday                              -0.002025  0.004839   \n",
              "SchoolHoliday                              0.001254 -0.006909   \n",
              "StoreType                                  0.020492  0.088922   \n",
              "Assortment                                 0.050380  0.008220   \n",
              "CompetitionDistance                        0.021309 -0.138832   \n",
              "CompetitionOpenSinceMonth                 -0.060594 -0.007733   \n",
              "CompetitionOpenSinceYear                   1.000000 -0.063737   \n",
              "Promo2                                    -0.063737  1.000000   \n",
              "Promo2SinceWeek                           -0.079797  0.759240   \n",
              "Promo2SinceYear                           -0.063730  0.999999   \n",
              "PromoInterval                             -0.036252  0.823364   \n",
              "year                                       0.000637 -0.004982   \n",
              "month                                      0.003234 -0.025323   \n",
              "day                                        0.000046 -0.000354   \n",
              "\n",
              "                           Promo2SinceWeek  Promo2SinceYear  PromoInterval  \\\n",
              "Store                             0.011053         0.008520      -0.000898   \n",
              "DayOfWeek                         0.000208         0.000168       0.000074   \n",
              "Sales                            -0.044143        -0.091056      -0.092635   \n",
              "Customers                        -0.098323        -0.150138      -0.135765   \n",
              "Open                             -0.007436        -0.008308      -0.006659   \n",
              "Promo                            -0.001210        -0.000983      -0.000437   \n",
              "StateHoliday                      0.004622         0.004839       0.002981   \n",
              "SchoolHoliday                    -0.006679        -0.006912      -0.005785   \n",
              "StoreType                         0.059704         0.088865       0.092566   \n",
              "Assortment                       -0.030182         0.008267       0.043246   \n",
              "CompetitionDistance              -0.122348        -0.138896      -0.120211   \n",
              "CompetitionOpenSinceMonth        -0.018114        -0.007701       0.040857   \n",
              "CompetitionOpenSinceYear         -0.079797        -0.063730      -0.036252   \n",
              "Promo2                            0.759240         0.999999       0.823364   \n",
              "Promo2SinceWeek                   1.000000         0.759054       0.625796   \n",
              "Promo2SinceYear                   0.759054         1.000000       0.823434   \n",
              "PromoInterval                     0.625796         0.823434       1.000000   \n",
              "year                             -0.006135        -0.004983      -0.002213   \n",
              "month                            -0.031188        -0.025329      -0.011245   \n",
              "day                              -0.000435        -0.000354      -0.000158   \n",
              "\n",
              "                               year     month       day  \n",
              "Store                      0.000290  0.001467  0.000023  \n",
              "DayOfWeek                  0.001937 -0.005362  0.005136  \n",
              "Sales                      0.023519  0.048768 -0.011612  \n",
              "Customers                 -0.001212  0.038179 -0.004473  \n",
              "Open                      -0.001009 -0.000681  0.033428  \n",
              "Promo                      0.024300 -0.011747 -0.108325  \n",
              "StateHoliday              -0.005067  0.038058 -0.015652  \n",
              "SchoolHoliday             -0.036535  0.103282  0.030538  \n",
              "StoreType                 -0.001514 -0.007692 -0.000109  \n",
              "Assortment                 0.001494  0.007601  0.000104  \n",
              "CompetitionDistance        0.000716  0.003643  0.000050  \n",
              "CompetitionOpenSinceMonth -0.000100 -0.000515 -0.000005  \n",
              "CompetitionOpenSinceYear   0.000637  0.003234  0.000046  \n",
              "Promo2                    -0.004982 -0.025323 -0.000354  \n",
              "Promo2SinceWeek           -0.006135 -0.031188 -0.000435  \n",
              "Promo2SinceYear           -0.004983 -0.025329 -0.000354  \n",
              "PromoInterval             -0.002213 -0.011245 -0.000158  \n",
              "year                       1.000000 -0.269382 -0.002485  \n",
              "month                     -0.269382  1.000000  0.012442  \n",
              "day                       -0.002485  0.012442  1.000000  "
            ],
            "text/html": [
              "\n",
              "  <div id=\"df-c9bed823-737a-4bba-9792-e6568c069072\">\n",
              "    <div class=\"colab-df-container\">\n",
              "      <div>\n",
              "<style scoped>\n",
              "    .dataframe tbody tr th:only-of-type {\n",
              "        vertical-align: middle;\n",
              "    }\n",
              "\n",
              "    .dataframe tbody tr th {\n",
              "        vertical-align: top;\n",
              "    }\n",
              "\n",
              "    .dataframe thead th {\n",
              "        text-align: right;\n",
              "    }\n",
              "</style>\n",
              "<table border=\"1\" class=\"dataframe\">\n",
              "  <thead>\n",
              "    <tr style=\"text-align: right;\">\n",
              "      <th></th>\n",
              "      <th>Store</th>\n",
              "      <th>DayOfWeek</th>\n",
              "      <th>Sales</th>\n",
              "      <th>Customers</th>\n",
              "      <th>Open</th>\n",
              "      <th>Promo</th>\n",
              "      <th>StateHoliday</th>\n",
              "      <th>SchoolHoliday</th>\n",
              "      <th>StoreType</th>\n",
              "      <th>Assortment</th>\n",
              "      <th>CompetitionDistance</th>\n",
              "      <th>CompetitionOpenSinceMonth</th>\n",
              "      <th>CompetitionOpenSinceYear</th>\n",
              "      <th>Promo2</th>\n",
              "      <th>Promo2SinceWeek</th>\n",
              "      <th>Promo2SinceYear</th>\n",
              "      <th>PromoInterval</th>\n",
              "      <th>year</th>\n",
              "      <th>month</th>\n",
              "      <th>day</th>\n",
              "    </tr>\n",
              "  </thead>\n",
              "  <tbody>\n",
              "    <tr>\n",
              "      <th>Store</th>\n",
              "      <td>1.000000</td>\n",
              "      <td>-0.000008</td>\n",
              "      <td>0.005126</td>\n",
              "      <td>0.024325</td>\n",
              "      <td>-0.000047</td>\n",
              "      <td>0.000058</td>\n",
              "      <td>0.000362</td>\n",
              "      <td>0.000641</td>\n",
              "      <td>-0.021604</td>\n",
              "      <td>0.004419</td>\n",
              "      <td>-0.026486</td>\n",
              "      <td>-0.041990</td>\n",
              "      <td>-0.003800</td>\n",
              "      <td>0.008488</td>\n",
              "      <td>0.011053</td>\n",
              "      <td>0.008520</td>\n",
              "      <td>-0.000898</td>\n",
              "      <td>0.000290</td>\n",
              "      <td>0.001467</td>\n",
              "      <td>0.000023</td>\n",
              "    </tr>\n",
              "    <tr>\n",
              "      <th>DayOfWeek</th>\n",
              "      <td>-0.000008</td>\n",
              "      <td>1.000000</td>\n",
              "      <td>-0.462125</td>\n",
              "      <td>-0.386445</td>\n",
              "      <td>-0.528963</td>\n",
              "      <td>-0.392925</td>\n",
              "      <td>-0.044265</td>\n",
              "      <td>-0.205388</td>\n",
              "      <td>0.000051</td>\n",
              "      <td>-0.000052</td>\n",
              "      <td>-0.000025</td>\n",
              "      <td>0.000005</td>\n",
              "      <td>-0.000021</td>\n",
              "      <td>0.000168</td>\n",
              "      <td>0.000208</td>\n",
              "      <td>0.000168</td>\n",
              "      <td>0.000074</td>\n",
              "      <td>0.001937</td>\n",
              "      <td>-0.005362</td>\n",
              "      <td>0.005136</td>\n",
              "    </tr>\n",
              "    <tr>\n",
              "      <th>Sales</th>\n",
              "      <td>0.005126</td>\n",
              "      <td>-0.462125</td>\n",
              "      <td>1.000000</td>\n",
              "      <td>0.894711</td>\n",
              "      <td>0.678472</td>\n",
              "      <td>0.452345</td>\n",
              "      <td>-0.229029</td>\n",
              "      <td>0.085124</td>\n",
              "      <td>-0.013057</td>\n",
              "      <td>0.074941</td>\n",
              "      <td>-0.018609</td>\n",
              "      <td>-0.023489</td>\n",
              "      <td>0.010523</td>\n",
              "      <td>-0.091040</td>\n",
              "      <td>-0.044143</td>\n",
              "      <td>-0.091056</td>\n",
              "      <td>-0.092635</td>\n",
              "      <td>0.023519</td>\n",
              "      <td>0.048768</td>\n",
              "      <td>-0.011612</td>\n",
              "    </tr>\n",
              "    <tr>\n",
              "      <th>Customers</th>\n",
              "      <td>0.024325</td>\n",
              "      <td>-0.386445</td>\n",
              "      <td>0.894711</td>\n",
              "      <td>1.000000</td>\n",
              "      <td>0.616768</td>\n",
              "      <td>0.316169</td>\n",
              "      <td>-0.204295</td>\n",
              "      <td>0.071568</td>\n",
              "      <td>-0.141423</td>\n",
              "      <td>0.007044</td>\n",
              "      <td>-0.102022</td>\n",
              "      <td>-0.025098</td>\n",
              "      <td>0.007241</td>\n",
              "      <td>-0.150159</td>\n",
              "      <td>-0.098323</td>\n",
              "      <td>-0.150138</td>\n",
              "      <td>-0.135765</td>\n",
              "      <td>-0.001212</td>\n",
              "      <td>0.038179</td>\n",
              "      <td>-0.004473</td>\n",
              "    </tr>\n",
              "    <tr>\n",
              "      <th>Open</th>\n",
              "      <td>-0.000047</td>\n",
              "      <td>-0.528963</td>\n",
              "      <td>0.678472</td>\n",
              "      <td>0.616768</td>\n",
              "      <td>1.000000</td>\n",
              "      <td>0.295042</td>\n",
              "      <td>-0.340893</td>\n",
              "      <td>0.086171</td>\n",
              "      <td>-0.003325</td>\n",
              "      <td>0.002972</td>\n",
              "      <td>0.007989</td>\n",
              "      <td>0.001144</td>\n",
              "      <td>0.002290</td>\n",
              "      <td>-0.008309</td>\n",
              "      <td>-0.007436</td>\n",
              "      <td>-0.008308</td>\n",
              "      <td>-0.006659</td>\n",
              "      <td>-0.001009</td>\n",
              "      <td>-0.000681</td>\n",
              "      <td>0.033428</td>\n",
              "    </tr>\n",
              "    <tr>\n",
              "      <th>Promo</th>\n",
              "      <td>0.000058</td>\n",
              "      <td>-0.392925</td>\n",
              "      <td>0.452345</td>\n",
              "      <td>0.316169</td>\n",
              "      <td>0.295042</td>\n",
              "      <td>1.000000</td>\n",
              "      <td>-0.024157</td>\n",
              "      <td>0.067483</td>\n",
              "      <td>-0.000299</td>\n",
              "      <td>0.000294</td>\n",
              "      <td>0.000141</td>\n",
              "      <td>-0.000019</td>\n",
              "      <td>0.000126</td>\n",
              "      <td>-0.000983</td>\n",
              "      <td>-0.001210</td>\n",
              "      <td>-0.000983</td>\n",
              "      <td>-0.000437</td>\n",
              "      <td>0.024300</td>\n",
              "      <td>-0.011747</td>\n",
              "      <td>-0.108325</td>\n",
              "    </tr>\n",
              "    <tr>\n",
              "      <th>StateHoliday</th>\n",
              "      <td>0.000362</td>\n",
              "      <td>-0.044265</td>\n",
              "      <td>-0.229029</td>\n",
              "      <td>-0.204295</td>\n",
              "      <td>-0.340893</td>\n",
              "      <td>-0.024157</td>\n",
              "      <td>1.000000</td>\n",
              "      <td>0.196424</td>\n",
              "      <td>0.001360</td>\n",
              "      <td>-0.001497</td>\n",
              "      <td>-0.000400</td>\n",
              "      <td>0.000428</td>\n",
              "      <td>-0.002025</td>\n",
              "      <td>0.004839</td>\n",
              "      <td>0.004622</td>\n",
              "      <td>0.004839</td>\n",
              "      <td>0.002981</td>\n",
              "      <td>-0.005067</td>\n",
              "      <td>0.038058</td>\n",
              "      <td>-0.015652</td>\n",
              "    </tr>\n",
              "    <tr>\n",
              "      <th>SchoolHoliday</th>\n",
              "      <td>0.000641</td>\n",
              "      <td>-0.205388</td>\n",
              "      <td>0.085124</td>\n",
              "      <td>0.071568</td>\n",
              "      <td>0.086171</td>\n",
              "      <td>0.067483</td>\n",
              "      <td>0.196424</td>\n",
              "      <td>1.000000</td>\n",
              "      <td>0.000032</td>\n",
              "      <td>-0.002530</td>\n",
              "      <td>-0.003651</td>\n",
              "      <td>-0.000434</td>\n",
              "      <td>0.001254</td>\n",
              "      <td>-0.006909</td>\n",
              "      <td>-0.006679</td>\n",
              "      <td>-0.006912</td>\n",
              "      <td>-0.005785</td>\n",
              "      <td>-0.036535</td>\n",
              "      <td>0.103282</td>\n",
              "      <td>0.030538</td>\n",
              "    </tr>\n",
              "    <tr>\n",
              "      <th>StoreType</th>\n",
              "      <td>-0.021604</td>\n",
              "      <td>0.000051</td>\n",
              "      <td>-0.013057</td>\n",
              "      <td>-0.141423</td>\n",
              "      <td>-0.003325</td>\n",
              "      <td>-0.000299</td>\n",
              "      <td>0.001360</td>\n",
              "      <td>0.000032</td>\n",
              "      <td>1.000000</td>\n",
              "      <td>0.232862</td>\n",
              "      <td>0.077056</td>\n",
              "      <td>0.021974</td>\n",
              "      <td>0.020492</td>\n",
              "      <td>0.088922</td>\n",
              "      <td>0.059704</td>\n",
              "      <td>0.088865</td>\n",
              "      <td>0.092566</td>\n",
              "      <td>-0.001514</td>\n",
              "      <td>-0.007692</td>\n",
              "      <td>-0.000109</td>\n",
              "    </tr>\n",
              "    <tr>\n",
              "      <th>Assortment</th>\n",
              "      <td>0.004419</td>\n",
              "      <td>-0.000052</td>\n",
              "      <td>0.074941</td>\n",
              "      <td>0.007044</td>\n",
              "      <td>0.002972</td>\n",
              "      <td>0.000294</td>\n",
              "      <td>-0.001497</td>\n",
              "      <td>-0.002530</td>\n",
              "      <td>0.232862</td>\n",
              "      <td>1.000000</td>\n",
              "      <td>0.146695</td>\n",
              "      <td>-0.000528</td>\n",
              "      <td>0.050380</td>\n",
              "      <td>0.008220</td>\n",
              "      <td>-0.030182</td>\n",
              "      <td>0.008267</td>\n",
              "      <td>0.043246</td>\n",
              "      <td>0.001494</td>\n",
              "      <td>0.007601</td>\n",
              "      <td>0.000104</td>\n",
              "    </tr>\n",
              "    <tr>\n",
              "      <th>CompetitionDistance</th>\n",
              "      <td>-0.026486</td>\n",
              "      <td>-0.000025</td>\n",
              "      <td>-0.018609</td>\n",
              "      <td>-0.102022</td>\n",
              "      <td>0.007989</td>\n",
              "      <td>0.000141</td>\n",
              "      <td>-0.000400</td>\n",
              "      <td>-0.003651</td>\n",
              "      <td>0.077056</td>\n",
              "      <td>0.146695</td>\n",
              "      <td>1.000000</td>\n",
              "      <td>-0.051704</td>\n",
              "      <td>0.021309</td>\n",
              "      <td>-0.138832</td>\n",
              "      <td>-0.122348</td>\n",
              "      <td>-0.138896</td>\n",
              "      <td>-0.120211</td>\n",
              "      <td>0.000716</td>\n",
              "      <td>0.003643</td>\n",
              "      <td>0.000050</td>\n",
              "    </tr>\n",
              "    <tr>\n",
              "      <th>CompetitionOpenSinceMonth</th>\n",
              "      <td>-0.041990</td>\n",
              "      <td>0.000005</td>\n",
              "      <td>-0.023489</td>\n",
              "      <td>-0.025098</td>\n",
              "      <td>0.001144</td>\n",
              "      <td>-0.000019</td>\n",
              "      <td>0.000428</td>\n",
              "      <td>-0.000434</td>\n",
              "      <td>0.021974</td>\n",
              "      <td>-0.000528</td>\n",
              "      <td>-0.051704</td>\n",
              "      <td>1.000000</td>\n",
              "      <td>-0.060594</td>\n",
              "      <td>-0.007733</td>\n",
              "      <td>-0.018114</td>\n",
              "      <td>-0.007701</td>\n",
              "      <td>0.040857</td>\n",
              "      <td>-0.000100</td>\n",
              "      <td>-0.000515</td>\n",
              "      <td>-0.000005</td>\n",
              "    </tr>\n",
              "    <tr>\n",
              "      <th>CompetitionOpenSinceYear</th>\n",
              "      <td>-0.003800</td>\n",
              "      <td>-0.000021</td>\n",
              "      <td>0.010523</td>\n",
              "      <td>0.007241</td>\n",
              "      <td>0.002290</td>\n",
              "      <td>0.000126</td>\n",
              "      <td>-0.002025</td>\n",
              "      <td>0.001254</td>\n",
              "      <td>0.020492</td>\n",
              "      <td>0.050380</td>\n",
              "      <td>0.021309</td>\n",
              "      <td>-0.060594</td>\n",
              "      <td>1.000000</td>\n",
              "      <td>-0.063737</td>\n",
              "      <td>-0.079797</td>\n",
              "      <td>-0.063730</td>\n",
              "      <td>-0.036252</td>\n",
              "      <td>0.000637</td>\n",
              "      <td>0.003234</td>\n",
              "      <td>0.000046</td>\n",
              "    </tr>\n",
              "    <tr>\n",
              "      <th>Promo2</th>\n",
              "      <td>0.008488</td>\n",
              "      <td>0.000168</td>\n",
              "      <td>-0.091040</td>\n",
              "      <td>-0.150159</td>\n",
              "      <td>-0.008309</td>\n",
              "      <td>-0.000983</td>\n",
              "      <td>0.004839</td>\n",
              "      <td>-0.006909</td>\n",
              "      <td>0.088922</td>\n",
              "      <td>0.008220</td>\n",
              "      <td>-0.138832</td>\n",
              "      <td>-0.007733</td>\n",
              "      <td>-0.063737</td>\n",
              "      <td>1.000000</td>\n",
              "      <td>0.759240</td>\n",
              "      <td>0.999999</td>\n",
              "      <td>0.823364</td>\n",
              "      <td>-0.004982</td>\n",
              "      <td>-0.025323</td>\n",
              "      <td>-0.000354</td>\n",
              "    </tr>\n",
              "    <tr>\n",
              "      <th>Promo2SinceWeek</th>\n",
              "      <td>0.011053</td>\n",
              "      <td>0.000208</td>\n",
              "      <td>-0.044143</td>\n",
              "      <td>-0.098323</td>\n",
              "      <td>-0.007436</td>\n",
              "      <td>-0.001210</td>\n",
              "      <td>0.004622</td>\n",
              "      <td>-0.006679</td>\n",
              "      <td>0.059704</td>\n",
              "      <td>-0.030182</td>\n",
              "      <td>-0.122348</td>\n",
              "      <td>-0.018114</td>\n",
              "      <td>-0.079797</td>\n",
              "      <td>0.759240</td>\n",
              "      <td>1.000000</td>\n",
              "      <td>0.759054</td>\n",
              "      <td>0.625796</td>\n",
              "      <td>-0.006135</td>\n",
              "      <td>-0.031188</td>\n",
              "      <td>-0.000435</td>\n",
              "    </tr>\n",
              "    <tr>\n",
              "      <th>Promo2SinceYear</th>\n",
              "      <td>0.008520</td>\n",
              "      <td>0.000168</td>\n",
              "      <td>-0.091056</td>\n",
              "      <td>-0.150138</td>\n",
              "      <td>-0.008308</td>\n",
              "      <td>-0.000983</td>\n",
              "      <td>0.004839</td>\n",
              "      <td>-0.006912</td>\n",
              "      <td>0.088865</td>\n",
              "      <td>0.008267</td>\n",
              "      <td>-0.138896</td>\n",
              "      <td>-0.007701</td>\n",
              "      <td>-0.063730</td>\n",
              "      <td>0.999999</td>\n",
              "      <td>0.759054</td>\n",
              "      <td>1.000000</td>\n",
              "      <td>0.823434</td>\n",
              "      <td>-0.004983</td>\n",
              "      <td>-0.025329</td>\n",
              "      <td>-0.000354</td>\n",
              "    </tr>\n",
              "    <tr>\n",
              "      <th>PromoInterval</th>\n",
              "      <td>-0.000898</td>\n",
              "      <td>0.000074</td>\n",
              "      <td>-0.092635</td>\n",
              "      <td>-0.135765</td>\n",
              "      <td>-0.006659</td>\n",
              "      <td>-0.000437</td>\n",
              "      <td>0.002981</td>\n",
              "      <td>-0.005785</td>\n",
              "      <td>0.092566</td>\n",
              "      <td>0.043246</td>\n",
              "      <td>-0.120211</td>\n",
              "      <td>0.040857</td>\n",
              "      <td>-0.036252</td>\n",
              "      <td>0.823364</td>\n",
              "      <td>0.625796</td>\n",
              "      <td>0.823434</td>\n",
              "      <td>1.000000</td>\n",
              "      <td>-0.002213</td>\n",
              "      <td>-0.011245</td>\n",
              "      <td>-0.000158</td>\n",
              "    </tr>\n",
              "    <tr>\n",
              "      <th>year</th>\n",
              "      <td>0.000290</td>\n",
              "      <td>0.001937</td>\n",
              "      <td>0.023519</td>\n",
              "      <td>-0.001212</td>\n",
              "      <td>-0.001009</td>\n",
              "      <td>0.024300</td>\n",
              "      <td>-0.005067</td>\n",
              "      <td>-0.036535</td>\n",
              "      <td>-0.001514</td>\n",
              "      <td>0.001494</td>\n",
              "      <td>0.000716</td>\n",
              "      <td>-0.000100</td>\n",
              "      <td>0.000637</td>\n",
              "      <td>-0.004982</td>\n",
              "      <td>-0.006135</td>\n",
              "      <td>-0.004983</td>\n",
              "      <td>-0.002213</td>\n",
              "      <td>1.000000</td>\n",
              "      <td>-0.269382</td>\n",
              "      <td>-0.002485</td>\n",
              "    </tr>\n",
              "    <tr>\n",
              "      <th>month</th>\n",
              "      <td>0.001467</td>\n",
              "      <td>-0.005362</td>\n",
              "      <td>0.048768</td>\n",
              "      <td>0.038179</td>\n",
              "      <td>-0.000681</td>\n",
              "      <td>-0.011747</td>\n",
              "      <td>0.038058</td>\n",
              "      <td>0.103282</td>\n",
              "      <td>-0.007692</td>\n",
              "      <td>0.007601</td>\n",
              "      <td>0.003643</td>\n",
              "      <td>-0.000515</td>\n",
              "      <td>0.003234</td>\n",
              "      <td>-0.025323</td>\n",
              "      <td>-0.031188</td>\n",
              "      <td>-0.025329</td>\n",
              "      <td>-0.011245</td>\n",
              "      <td>-0.269382</td>\n",
              "      <td>1.000000</td>\n",
              "      <td>0.012442</td>\n",
              "    </tr>\n",
              "    <tr>\n",
              "      <th>day</th>\n",
              "      <td>0.000023</td>\n",
              "      <td>0.005136</td>\n",
              "      <td>-0.011612</td>\n",
              "      <td>-0.004473</td>\n",
              "      <td>0.033428</td>\n",
              "      <td>-0.108325</td>\n",
              "      <td>-0.015652</td>\n",
              "      <td>0.030538</td>\n",
              "      <td>-0.000109</td>\n",
              "      <td>0.000104</td>\n",
              "      <td>0.000050</td>\n",
              "      <td>-0.000005</td>\n",
              "      <td>0.000046</td>\n",
              "      <td>-0.000354</td>\n",
              "      <td>-0.000435</td>\n",
              "      <td>-0.000354</td>\n",
              "      <td>-0.000158</td>\n",
              "      <td>-0.002485</td>\n",
              "      <td>0.012442</td>\n",
              "      <td>1.000000</td>\n",
              "    </tr>\n",
              "  </tbody>\n",
              "</table>\n",
              "</div>\n",
              "      <button class=\"colab-df-convert\" onclick=\"convertToInteractive('df-c9bed823-737a-4bba-9792-e6568c069072')\"\n",
              "              title=\"Convert this dataframe to an interactive table.\"\n",
              "              style=\"display:none;\">\n",
              "        \n",
              "  <svg xmlns=\"http://www.w3.org/2000/svg\" height=\"24px\"viewBox=\"0 0 24 24\"\n",
              "       width=\"24px\">\n",
              "    <path d=\"M0 0h24v24H0V0z\" fill=\"none\"/>\n",
              "    <path d=\"M18.56 5.44l.94 2.06.94-2.06 2.06-.94-2.06-.94-.94-2.06-.94 2.06-2.06.94zm-11 1L8.5 8.5l.94-2.06 2.06-.94-2.06-.94L8.5 2.5l-.94 2.06-2.06.94zm10 10l.94 2.06.94-2.06 2.06-.94-2.06-.94-.94-2.06-.94 2.06-2.06.94z\"/><path d=\"M17.41 7.96l-1.37-1.37c-.4-.4-.92-.59-1.43-.59-.52 0-1.04.2-1.43.59L10.3 9.45l-7.72 7.72c-.78.78-.78 2.05 0 2.83L4 21.41c.39.39.9.59 1.41.59.51 0 1.02-.2 1.41-.59l7.78-7.78 2.81-2.81c.8-.78.8-2.07 0-2.86zM5.41 20L4 18.59l7.72-7.72 1.47 1.35L5.41 20z\"/>\n",
              "  </svg>\n",
              "      </button>\n",
              "      \n",
              "  <style>\n",
              "    .colab-df-container {\n",
              "      display:flex;\n",
              "      flex-wrap:wrap;\n",
              "      gap: 12px;\n",
              "    }\n",
              "\n",
              "    .colab-df-convert {\n",
              "      background-color: #E8F0FE;\n",
              "      border: none;\n",
              "      border-radius: 50%;\n",
              "      cursor: pointer;\n",
              "      display: none;\n",
              "      fill: #1967D2;\n",
              "      height: 32px;\n",
              "      padding: 0 0 0 0;\n",
              "      width: 32px;\n",
              "    }\n",
              "\n",
              "    .colab-df-convert:hover {\n",
              "      background-color: #E2EBFA;\n",
              "      box-shadow: 0px 1px 2px rgba(60, 64, 67, 0.3), 0px 1px 3px 1px rgba(60, 64, 67, 0.15);\n",
              "      fill: #174EA6;\n",
              "    }\n",
              "\n",
              "    [theme=dark] .colab-df-convert {\n",
              "      background-color: #3B4455;\n",
              "      fill: #D2E3FC;\n",
              "    }\n",
              "\n",
              "    [theme=dark] .colab-df-convert:hover {\n",
              "      background-color: #434B5C;\n",
              "      box-shadow: 0px 1px 3px 1px rgba(0, 0, 0, 0.15);\n",
              "      filter: drop-shadow(0px 1px 2px rgba(0, 0, 0, 0.3));\n",
              "      fill: #FFFFFF;\n",
              "    }\n",
              "  </style>\n",
              "\n",
              "      <script>\n",
              "        const buttonEl =\n",
              "          document.querySelector('#df-c9bed823-737a-4bba-9792-e6568c069072 button.colab-df-convert');\n",
              "        buttonEl.style.display =\n",
              "          google.colab.kernel.accessAllowed ? 'block' : 'none';\n",
              "\n",
              "        async function convertToInteractive(key) {\n",
              "          const element = document.querySelector('#df-c9bed823-737a-4bba-9792-e6568c069072');\n",
              "          const dataTable =\n",
              "            await google.colab.kernel.invokeFunction('convertToInteractive',\n",
              "                                                     [key], {});\n",
              "          if (!dataTable) return;\n",
              "\n",
              "          const docLinkHtml = 'Like what you see? Visit the ' +\n",
              "            '<a target=\"_blank\" href=https://colab.research.google.com/notebooks/data_table.ipynb>data table notebook</a>'\n",
              "            + ' to learn more about interactive tables.';\n",
              "          element.innerHTML = '';\n",
              "          dataTable['output_type'] = 'display_data';\n",
              "          await google.colab.output.renderOutput(dataTable, element);\n",
              "          const docLink = document.createElement('div');\n",
              "          docLink.innerHTML = docLinkHtml;\n",
              "          element.appendChild(docLink);\n",
              "        }\n",
              "      </script>\n",
              "    </div>\n",
              "  </div>\n",
              "  "
            ]
          },
          "metadata": {},
          "execution_count": 145
        }
      ]
    },
    {
      "cell_type": "markdown",
      "source": [
        "# **EDA**"
      ],
      "metadata": {
        "id": "n3kQTwFkuZ6-"
      }
    },
    {
      "cell_type": "code",
      "source": [
        "sns.heatmap(All_store.corr())"
      ],
      "metadata": {
        "colab": {
          "base_uri": "https://localhost:8080/",
          "height": 422
        },
        "id": "bMWC4i57uSM-",
        "outputId": "6f43b71f-9ef2-47cd-9a22-f0620fc9230e"
      },
      "execution_count": null,
      "outputs": [
        {
          "output_type": "execute_result",
          "data": {
            "text/plain": [
              "<matplotlib.axes._subplots.AxesSubplot at 0x7f6363f33410>"
            ]
          },
          "metadata": {},
          "execution_count": 146
        },
        {
          "output_type": "display_data",
          "data": {
            "text/plain": [
              "<Figure size 432x288 with 2 Axes>"
            ],
            "image/png": "[encoded data removed]"
          },
          "metadata": {
            "needs_background": "light"
          }
        }
      ]
    },
    {
      "cell_type": "code",
      "source": [
        "All_store.hist(figsize=(20,10))\n",
        "plt.show()"
      ],
      "metadata": {
        "colab": {
          "base_uri": "https://localhost:8080/",
          "height": 607
        },
        "id": "oAyRDDH6l0Il",
        "outputId": "1ec51c04-2862-4111-bcbd-5b31a16277e3"
      },
      "execution_count": null,
      "outputs": [
        {
          "output_type": "display_data",
          "data": {
            "text/plain": [
              "<Figure size 1440x720 with 20 Axes>"
            ],
            "image/png": "[encoded data removed]"
          },
          "metadata": {
            "needs_background": "light"
          }
        }
      ]
    },
    {
      "cell_type": "code",
      "source": [
        "plt.figure(figsize=(17,8))\n",
        "correlation = All_store.corr()\n",
        "sns.heatmap(abs(correlation), annot=True, cmap='PiYG')"
      ],
      "metadata": {
        "colab": {
          "base_uri": "https://localhost:8080/",
          "height": 639
        },
        "id": "uAG9CI_puqw_",
        "outputId": "1d09546f-4022-4b22-9b0e-1a887a4882a9"
      },
      "execution_count": null,
      "outputs": [
        {
          "output_type": "execute_result",
          "data": {
            "text/plain": [
              "<matplotlib.axes._subplots.AxesSubplot at 0x7f637130bb10>"
            ]
          },
          "metadata": {},
          "execution_count": 148
        },
        {
          "output_type": "display_data",
          "data": {
            "text/plain": [
              "<Figure size 1224x576 with 2 Axes>"
            ],
            "image/png": "[encoded data removed]"
          },
          "metadata": {
            "needs_background": "light"
          }
        }
      ]
    },
    {
      "cell_type": "code",
      "source": [
        "ax = sns.countplot(x='Open', hue='DayOfWeek', data=All_store, palette='YlGnBu')"
      ],
      "metadata": {
        "colab": {
          "base_uri": "https://localhost:8080/",
          "height": 279
        },
        "id": "ltJiLywcxoWY",
        "outputId": "dc89ef5e-4cf6-4f48-8496-bb648b0e1075"
      },
      "execution_count": null,
      "outputs": [
        {
          "output_type": "display_data",
          "data": {
            "text/plain": [
              "<Figure size 432x288 with 1 Axes>"
            ],
            "image/png": "[encoded data removed]"
          },
          "metadata": {
            "needs_background": "light"
          }
        }
      ]
    },
    {
      "cell_type": "code",
      "source": [
        "# Create a figure object\n",
        "ab = All_store.groupby(['StoreType'])['Sales'].mean().plot.bar(figsize=(10,5), fontsize=15)\n",
        "\n",
        "# Set the title\n",
        "ab.set_title(\"Average sales for different store types\", fontsize=18)\n",
        "\n",
        "# Set X and Y labels\n",
        "ab.set_xlabel(\"StoreType\", fontsize=16)\n",
        "ab.set_ylabel(\"Sales\", fontsize=16)"
      ],
      "metadata": {
        "id": "Nln1Iw2uzQGf",
        "colab": {
          "base_uri": "https://localhost:8080/",
          "height": 375
        },
        "outputId": "62f5cbf1-12cd-4e31-e833-690e256eb08a"
      },
      "execution_count": null,
      "outputs": [
        {
          "output_type": "execute_result",
          "data": {
            "text/plain": [
              "Text(0, 0.5, 'Sales')"
            ]
          },
          "metadata": {},
          "execution_count": 150
        },
        {
          "output_type": "display_data",
          "data": {
            "text/plain": [
              "<Figure size 720x360 with 1 Axes>"
            ],
            "image/png": "[encoded data removed]"
          },
          "metadata": {
            "needs_background": "light"
          }
        }
      ]
    },
    {
      "cell_type": "code",
      "source": [
        "All_store.StoreType.value_counts()"
      ],
      "metadata": {
        "colab": {
          "base_uri": "https://localhost:8080/"
        },
        "id": "i0eJLrLeDLGr",
        "outputId": "5bf4f1be-0c65-40d4-d5b1-87e7b2a34c26"
      },
      "execution_count": null,
      "outputs": [
        {
          "output_type": "execute_result",
          "data": {
            "text/plain": [
              "0    551627\n",
              "3    312912\n",
              "2    136840\n",
              "1     15830\n",
              "Name: StoreType, dtype: int64"
            ]
          },
          "metadata": {},
          "execution_count": 151
        }
      ]
    },
    {
      "cell_type": "code",
      "source": [
        "boxplot = All_store.boxplot(figsize=(40,25))"
      ],
      "metadata": {
        "colab": {
          "base_uri": "https://localhost:8080/",
          "height": 878
        },
        "id": "1-lu901-H5YM",
        "outputId": "7f65153e-405c-43aa-d199-a8052f9a59d6"
      },
      "execution_count": null,
      "outputs": [
        {
          "output_type": "display_data",
          "data": {
            "text/plain": [
              "<Figure size 2880x1800 with 1 Axes>"
            ],
            "image/png": "[encoded data removed]"
          },
          "metadata": {
            "needs_background": "light"
          }
        }
      ]
    },
    {
      "cell_type": "code",
      "source": [
        "sns.distplot(All_store['Sales'])"
      ],
      "metadata": {
        "colab": {
          "base_uri": "https://localhost:8080/",
          "height": 296
        },
        "id": "AGFcFCUfICkG",
        "outputId": "5d11aa23-c31f-4100-e3c3-abb0c6211ebe"
      },
      "execution_count": null,
      "outputs": [
        {
          "output_type": "execute_result",
          "data": {
            "text/plain": [
              "<matplotlib.axes._subplots.AxesSubplot at 0x7f6365eca210>"
            ]
          },
          "metadata": {},
          "execution_count": 153
        },
        {
          "output_type": "display_data",
          "data": {
            "text/plain": [
              "<Figure size 432x288 with 1 Axes>"
            ],
            "image/png": "[encoded data removed]"
          },
          "metadata": {
            "needs_background": "light"
          }
        }
      ]
    },
    {
      "cell_type": "markdown",
      "source": [
        "# **Regression**"
      ],
      "metadata": {
        "id": "5AJEipxARZUd"
      }
    },
    {
      "cell_type": "code",
      "source": [
        "#defining x and y axis\n",
        "x= All_store.drop(['Sales'],axis=1).values"
      ],
      "metadata": {
        "id": "ceKUcLkEdqBA"
      },
      "execution_count": null,
      "outputs": []
    },
    {
      "cell_type": "code",
      "source": [
        "y = All_store['Sales'].values"
      ],
      "metadata": {
        "id": "0I1nRtasSan4"
      },
      "execution_count": null,
      "outputs": []
    },
    {
      "cell_type": "code",
      "source": [
        "!pip install -U scikit-learn"
      ],
      "metadata": {
        "colab": {
          "base_uri": "https://localhost:8080/"
        },
        "id": "GQsz2QE1spmt",
        "outputId": "48b62c3d-ec82-4a1d-d153-3c869e87ce1f"
      },
      "execution_count": null,
      "outputs": [
        {
          "output_type": "stream",
          "name": "stdout",
          "text": [
            "Looking in indexes: https://pypi.org/simple, https://us-python.pkg.dev/colab-wheels/public/simple/\n",
            "Requirement already satisfied: scikit-learn in /usr/local/lib/python3.7/dist-packages (1.0.2)\n",
            "Requirement already satisfied: scipy>=1.1.0 in /usr/local/lib/python3.7/dist-packages (from scikit-learn) (1.7.3)\n",
            "Requirement already satisfied: numpy>=1.14.6 in /usr/local/lib/python3.7/dist-packages (from scikit-learn) (1.21.6)\n",
            "Requirement already satisfied: threadpoolctl>=2.0.0 in /usr/local/lib/python3.7/dist-packages (from scikit-learn) (3.1.0)\n",
            "Requirement already satisfied: joblib>=0.11 in /usr/local/lib/python3.7/dist-packages (from scikit-learn) (1.2.0)\n"
          ]
        }
      ]
    },
    {
      "cell_type": "code",
      "source": [
        "#splitting the data into train and test\n",
        "from sklearn.model_selection import train_test_split\n",
        "x_train, x_test, y_train, y_test = train_test_split(\n",
        "  x, y, test_size= 0.30, random_state=42)"
      ],
      "metadata": {
        "id": "aFYA3daTTCkr"
      },
      "execution_count": null,
      "outputs": []
    },
    {
      "cell_type": "markdown",
      "source": [
        "**Linear Regression**"
      ],
      "metadata": {
        "id": "W6knz9eeukTW"
      }
    },
    {
      "cell_type": "code",
      "source": [
        "reg = LinearRegression()\n",
        "reg.fit(x_train, y_train)"
      ],
      "metadata": {
        "colab": {
          "base_uri": "https://localhost:8080/"
        },
        "id": "5aqI46tBOHIA",
        "outputId": "bb5c33e0-c6ab-48fe-9e94-43d889cf9f11"
      },
      "execution_count": null,
      "outputs": [
        {
          "output_type": "execute_result",
          "data": {
            "text/plain": [
              "LinearRegression()"
            ]
          },
          "metadata": {},
          "execution_count": 158
        }
      ]
    },
    {
      "cell_type": "code",
      "source": [
        "y_pred = reg.predict(x_test)"
      ],
      "metadata": {
        "id": "YwcGw60qOStG"
      },
      "execution_count": null,
      "outputs": []
    },
    {
      "cell_type": "code",
      "source": [
        "from sklearn.metrics import r2_score"
      ],
      "metadata": {
        "id": "L4IcXDfIWmPQ"
      },
      "execution_count": null,
      "outputs": []
    },
    {
      "cell_type": "code",
      "source": [
        "r2_score(y_pred,y_test)"
      ],
      "metadata": {
        "colab": {
          "base_uri": "https://localhost:8080/"
        },
        "id": "pDTIC0NxWqHw",
        "outputId": "82261e37-c29f-4643-cb89-6e9bdecfdc3c"
      },
      "execution_count": null,
      "outputs": [
        {
          "output_type": "execute_result",
          "data": {
            "text/plain": [
              "0.8493885806989396"
            ]
          },
          "metadata": {},
          "execution_count": 162
        }
      ]
    },
    {
      "cell_type": "markdown",
      "source": [
        "**Ridge and lasso regression**"
      ],
      "metadata": {
        "id": "xVAwZPiJXR3B"
      }
    },
    {
      "cell_type": "code",
      "source": [
        "from sklearn.linear_model import Ridge, Lasso"
      ],
      "metadata": {
        "id": "8ZH-mLgDXGUl"
      },
      "execution_count": null,
      "outputs": []
    },
    {
      "cell_type": "code",
      "source": [
        "lass = Lasso(alpha = 0.1, max_iter = 2000)"
      ],
      "metadata": {
        "id": "fM-25Q59XXnM"
      },
      "execution_count": null,
      "outputs": []
    },
    {
      "cell_type": "code",
      "source": [
        "lass.fit(x_train,y_train)"
      ],
      "metadata": {
        "colab": {
          "base_uri": "https://localhost:8080/"
        },
        "id": "qA_Xi3ntXboq",
        "outputId": "0a51c3f9-b335-4616-fb44-9f9c0237479d"
      },
      "execution_count": null,
      "outputs": [
        {
          "output_type": "execute_result",
          "data": {
            "text/plain": [
              "Lasso(alpha=0.1, max_iter=2000)"
            ]
          },
          "metadata": {},
          "execution_count": 165
        }
      ]
    },
    {
      "cell_type": "code",
      "source": [
        "prediction_lasso = lass.predict(x_test)"
      ],
      "metadata": {
        "id": "ztPXA46eXgvX"
      },
      "execution_count": null,
      "outputs": []
    },
    {
      "cell_type": "code",
      "source": [
        "r2_score(y_test,prediction_lasso)"
      ],
      "metadata": {
        "colab": {
          "base_uri": "https://localhost:8080/"
        },
        "id": "zlY3Bg-5X-98",
        "outputId": "c154e903-470e-4727-d522-139efb0e8bb7"
      },
      "execution_count": null,
      "outputs": [
        {
          "output_type": "execute_result",
          "data": {
            "text/plain": [
              "0.8684761773691394"
            ]
          },
          "metadata": {},
          "execution_count": 167
        }
      ]
    },
    {
      "cell_type": "markdown",
      "source": [
        "# **Decision Tree**"
      ],
      "metadata": {
        "id": "IoRKrXG9YFi4"
      }
    },
    {
      "cell_type": "code",
      "source": [
        "from sklearn.tree import DecisionTreeRegressor"
      ],
      "metadata": {
        "id": "z9rZVdhIX_kk"
      },
      "execution_count": null,
      "outputs": []
    },
    {
      "cell_type": "code",
      "source": [
        "des_regressor = DecisionTreeRegressor(random_state=10)\n",
        "cross_val_score(des_regressor, x_train, y_train, cv=10).mean()"
      ],
      "metadata": {
        "colab": {
          "base_uri": "https://localhost:8080/"
        },
        "id": "uzYKM2_rYMvt",
        "outputId": "623f97f9-0ba6-4d87-a0f9-1b95ea29d5a0"
      },
      "execution_count": null,
      "outputs": [
        {
          "output_type": "execute_result",
          "data": {
            "text/plain": [
              "0.9722182474203022"
            ]
          },
          "metadata": {},
          "execution_count": 169
        }
      ]
    },
    {
      "cell_type": "code",
      "source": [
        "des_regressor.fit(x_train,y_train)"
      ],
      "metadata": {
        "colab": {
          "base_uri": "https://localhost:8080/"
        },
        "id": "6Do-1J41YQPT",
        "outputId": "229a8474-e258-4ec4-e90c-834e95a7c9fb"
      },
      "execution_count": null,
      "outputs": [
        {
          "output_type": "execute_result",
          "data": {
            "text/plain": [
              "DecisionTreeRegressor(random_state=10)"
            ]
          },
          "metadata": {},
          "execution_count": 170
        }
      ]
    },
    {
      "cell_type": "code",
      "source": [
        "y_pred_des = des_regressor.predict(x_test)"
      ],
      "metadata": {
        "id": "tPadOFxTYZ98"
      },
      "execution_count": null,
      "outputs": []
    },
    {
      "cell_type": "code",
      "source": [
        "r2_score(y_pred_des, y_test)"
      ],
      "metadata": {
        "colab": {
          "base_uri": "https://localhost:8080/"
        },
        "id": "qYh-UKdIYc07",
        "outputId": "930b7b5b-249b-4f81-daff-85845f3af385"
      },
      "execution_count": null,
      "outputs": [
        {
          "output_type": "execute_result",
          "data": {
            "text/plain": [
              "0.9720080820504533"
            ]
          },
          "metadata": {},
          "execution_count": 172
        }
      ]
    },
    {
      "cell_type": "markdown",
      "source": [
        "# **Conclusion**\n",
        "\n",
        "**We can conclude that decision tree gives the best result in regression analysis.**"
      ],
      "metadata": {
        "id": "G_YdIYAfYz8v"
      }
    }
  ]
}